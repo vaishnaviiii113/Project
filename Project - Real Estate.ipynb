{
 "cells": [
  {
   "cell_type": "markdown",
   "id": "c5db4f50",
   "metadata": {},
   "source": [
    "# Importing required Libraries"
   ]
  },
  {
   "cell_type": "code",
   "execution_count": 1,
   "id": "27076791",
   "metadata": {},
   "outputs": [],
   "source": [
    "import numpy as np\n",
    "import pandas as pd\n",
    "import matplotlib.pyplot as plt\n",
    "import seaborn as sns\n",
    "\n",
    "import warnings\n",
    "warnings.filterwarnings(\"ignore\")"
   ]
  },
  {
   "cell_type": "markdown",
   "id": "96076eb2",
   "metadata": {},
   "source": [
    "# Loading the csv file"
   ]
  },
  {
   "cell_type": "code",
   "execution_count": 2,
   "id": "1009e476",
   "metadata": {},
   "outputs": [],
   "source": [
    "df=pd.read_csv(\"RealEstates.csv\")"
   ]
  },
  {
   "cell_type": "code",
   "execution_count": 3,
   "id": "941158a1",
   "metadata": {},
   "outputs": [
    {
     "data": {
      "text/html": [
       "<div>\n",
       "<style scoped>\n",
       "    .dataframe tbody tr th:only-of-type {\n",
       "        vertical-align: middle;\n",
       "    }\n",
       "\n",
       "    .dataframe tbody tr th {\n",
       "        vertical-align: top;\n",
       "    }\n",
       "\n",
       "    .dataframe thead th {\n",
       "        text-align: right;\n",
       "    }\n",
       "</style>\n",
       "<table border=\"1\" class=\"dataframe\">\n",
       "  <thead>\n",
       "    <tr style=\"text-align: right;\">\n",
       "      <th></th>\n",
       "      <th>ids</th>\n",
       "      <th>Avg. Area Income</th>\n",
       "      <th>Avg. Area House Age</th>\n",
       "      <th>Avg. Area Number of Rooms</th>\n",
       "      <th>Avg. Area Number of Bedrooms</th>\n",
       "      <th>Area Population</th>\n",
       "      <th>Price</th>\n",
       "      <th>Address</th>\n",
       "      <th>Avg Area Comfort</th>\n",
       "    </tr>\n",
       "  </thead>\n",
       "  <tbody>\n",
       "    <tr>\n",
       "      <th>0</th>\n",
       "      <td>0</td>\n",
       "      <td>79545.458574</td>\n",
       "      <td>missing</td>\n",
       "      <td>?</td>\n",
       "      <td>NaN</td>\n",
       "      <td>23086.800503</td>\n",
       "      <td>$1059033.5578701235</td>\n",
       "      <td>208 Michael Ferry Apt. 674\\nLaurabury, NE 3701...</td>\n",
       "      <td>0.289937</td>\n",
       "    </tr>\n",
       "    <tr>\n",
       "      <th>1</th>\n",
       "      <td>1</td>\n",
       "      <td>79248.642455</td>\n",
       "      <td>6.0028998082752425</td>\n",
       "      <td>6.730821019094919</td>\n",
       "      <td>3.09</td>\n",
       "      <td>40173.072174</td>\n",
       "      <td>Rs20078.545531292668</td>\n",
       "      <td>188 Johnson Views Suite 079\\nLake Kathleen, CA...</td>\n",
       "      <td>NaN</td>\n",
       "    </tr>\n",
       "    <tr>\n",
       "      <th>2</th>\n",
       "      <td>2</td>\n",
       "      <td>61287.067179</td>\n",
       "      <td>5.865889840310001</td>\n",
       "      <td>8.512727430375099</td>\n",
       "      <td>5.13</td>\n",
       "      <td>36882.159400</td>\n",
       "      <td>$1058987.9878760849</td>\n",
       "      <td>9127 Elizabeth Stravenue\\nDanieltown, WI 06482...</td>\n",
       "      <td>NaN</td>\n",
       "    </tr>\n",
       "    <tr>\n",
       "      <th>3</th>\n",
       "      <td>3</td>\n",
       "      <td>63345.240046</td>\n",
       "      <td>7.1882360945186425</td>\n",
       "      <td>?</td>\n",
       "      <td>NaN</td>\n",
       "      <td>34310.242831</td>\n",
       "      <td>Rs16808.224088392624</td>\n",
       "      <td>USS Barnett\\nFPO AP 44820</td>\n",
       "      <td>NaN</td>\n",
       "    </tr>\n",
       "    <tr>\n",
       "      <th>4</th>\n",
       "      <td>4</td>\n",
       "      <td>59982.197226</td>\n",
       "      <td>5.040554523106283</td>\n",
       "      <td>7.839387785120487</td>\n",
       "      <td>4.23</td>\n",
       "      <td>26354.109472</td>\n",
       "      <td>$630943.4893385402</td>\n",
       "      <td>USNS Raymond\\nFPO AE 09386</td>\n",
       "      <td>NaN</td>\n",
       "    </tr>\n",
       "  </tbody>\n",
       "</table>\n",
       "</div>"
      ],
      "text/plain": [
       "   ids  Avg. Area Income Avg. Area House Age Avg. Area Number of Rooms  \\\n",
       "0    0      79545.458574             missing                         ?   \n",
       "1    1      79248.642455  6.0028998082752425         6.730821019094919   \n",
       "2    2      61287.067179   5.865889840310001         8.512727430375099   \n",
       "3    3      63345.240046  7.1882360945186425                         ?   \n",
       "4    4      59982.197226   5.040554523106283         7.839387785120487   \n",
       "\n",
       "   Avg. Area Number of Bedrooms  Area Population                 Price  \\\n",
       "0                           NaN     23086.800503   $1059033.5578701235   \n",
       "1                          3.09     40173.072174  Rs20078.545531292668   \n",
       "2                          5.13     36882.159400   $1058987.9878760849   \n",
       "3                           NaN     34310.242831  Rs16808.224088392624   \n",
       "4                          4.23     26354.109472    $630943.4893385402   \n",
       "\n",
       "                                             Address  Avg Area Comfort  \n",
       "0  208 Michael Ferry Apt. 674\\nLaurabury, NE 3701...          0.289937  \n",
       "1  188 Johnson Views Suite 079\\nLake Kathleen, CA...               NaN  \n",
       "2  9127 Elizabeth Stravenue\\nDanieltown, WI 06482...               NaN  \n",
       "3                          USS Barnett\\nFPO AP 44820               NaN  \n",
       "4                         USNS Raymond\\nFPO AE 09386               NaN  "
      ]
     },
     "execution_count": 3,
     "metadata": {},
     "output_type": "execute_result"
    }
   ],
   "source": [
    "df.head()"
   ]
  },
  {
   "cell_type": "markdown",
   "id": "387aba58",
   "metadata": {},
   "source": [
    "# Checking for the info:"
   ]
  },
  {
   "cell_type": "code",
   "execution_count": 4,
   "id": "72bc61a4",
   "metadata": {},
   "outputs": [
    {
     "name": "stdout",
     "output_type": "stream",
     "text": [
      "<class 'pandas.core.frame.DataFrame'>\n",
      "RangeIndex: 5000 entries, 0 to 4999\n",
      "Data columns (total 9 columns):\n",
      " #   Column                        Non-Null Count  Dtype  \n",
      "---  ------                        --------------  -----  \n",
      " 0   ids                           5000 non-null   int64  \n",
      " 1   Avg. Area Income              5000 non-null   float64\n",
      " 2   Avg. Area House Age           5000 non-null   object \n",
      " 3   Avg. Area Number of Rooms     5000 non-null   object \n",
      " 4   Avg. Area Number of Bedrooms  3333 non-null   float64\n",
      " 5   Area Population               5000 non-null   float64\n",
      " 6   Price                         5000 non-null   object \n",
      " 7   Address                       5000 non-null   object \n",
      " 8   Avg Area Comfort              200 non-null    float64\n",
      "dtypes: float64(4), int64(1), object(4)\n",
      "memory usage: 351.7+ KB\n"
     ]
    }
   ],
   "source": [
    "df.info()"
   ]
  },
  {
   "cell_type": "markdown",
   "id": "2158bfb2",
   "metadata": {},
   "source": [
    "-From here we can see that, in this dataset total 9 columns and 5000 5ows are present"
   ]
  },
  {
   "cell_type": "markdown",
   "id": "399c506d",
   "metadata": {},
   "source": [
    "-In Avg. Area Number of Bedrooms & Avg Area Comfort we can see null values are present."
   ]
  },
  {
   "cell_type": "markdown",
   "id": "d62b1cdc",
   "metadata": {},
   "source": [
    "-For that we need to perform, df.fillna() inorder to remove the null values."
   ]
  },
  {
   "cell_type": "code",
   "execution_count": 5,
   "id": "f515e0dd",
   "metadata": {},
   "outputs": [],
   "source": [
    "df[\"Avg. Area Number of Bedrooms\"].replace(\"NaN\",np.nan, inplace=True)\n",
    "df[\"Avg. Area Number of Bedrooms\"]=df[\"Avg. Area Number of Bedrooms\"].astype(\"float64\")\n",
    "amean = df[\"Avg. Area Number of Bedrooms\"].mean()\n",
    "df[\"Avg. Area Number of Bedrooms\"].fillna(amean, inplace = True)"
   ]
  },
  {
   "cell_type": "markdown",
   "id": "cfdedde3",
   "metadata": {},
   "source": [
    "-As we know that, if more than 80% of values are null in a particular column we have to drop it by using df.drop()\n"
   ]
  },
  {
   "cell_type": "markdown",
   "id": "1c461599",
   "metadata": {},
   "source": [
    "-We are going to drop Avg. Area Comfort."
   ]
  },
  {
   "cell_type": "code",
   "execution_count": 6,
   "id": "bfe30609",
   "metadata": {},
   "outputs": [],
   "source": [
    "df.drop('Avg Area Comfort',axis=1,inplace=True)"
   ]
  },
  {
   "cell_type": "markdown",
   "id": "5bf7b382",
   "metadata": {},
   "source": [
    "# Now agian we are going to check df.head()"
   ]
  },
  {
   "cell_type": "code",
   "execution_count": 7,
   "id": "738be25a",
   "metadata": {},
   "outputs": [
    {
     "data": {
      "text/html": [
       "<div>\n",
       "<style scoped>\n",
       "    .dataframe tbody tr th:only-of-type {\n",
       "        vertical-align: middle;\n",
       "    }\n",
       "\n",
       "    .dataframe tbody tr th {\n",
       "        vertical-align: top;\n",
       "    }\n",
       "\n",
       "    .dataframe thead th {\n",
       "        text-align: right;\n",
       "    }\n",
       "</style>\n",
       "<table border=\"1\" class=\"dataframe\">\n",
       "  <thead>\n",
       "    <tr style=\"text-align: right;\">\n",
       "      <th></th>\n",
       "      <th>ids</th>\n",
       "      <th>Avg. Area Income</th>\n",
       "      <th>Avg. Area House Age</th>\n",
       "      <th>Avg. Area Number of Rooms</th>\n",
       "      <th>Avg. Area Number of Bedrooms</th>\n",
       "      <th>Area Population</th>\n",
       "      <th>Price</th>\n",
       "      <th>Address</th>\n",
       "    </tr>\n",
       "  </thead>\n",
       "  <tbody>\n",
       "    <tr>\n",
       "      <th>0</th>\n",
       "      <td>0</td>\n",
       "      <td>79545.458574</td>\n",
       "      <td>missing</td>\n",
       "      <td>?</td>\n",
       "      <td>3.998083</td>\n",
       "      <td>23086.800503</td>\n",
       "      <td>$1059033.5578701235</td>\n",
       "      <td>208 Michael Ferry Apt. 674\\nLaurabury, NE 3701...</td>\n",
       "    </tr>\n",
       "    <tr>\n",
       "      <th>1</th>\n",
       "      <td>1</td>\n",
       "      <td>79248.642455</td>\n",
       "      <td>6.0028998082752425</td>\n",
       "      <td>6.730821019094919</td>\n",
       "      <td>3.090000</td>\n",
       "      <td>40173.072174</td>\n",
       "      <td>Rs20078.545531292668</td>\n",
       "      <td>188 Johnson Views Suite 079\\nLake Kathleen, CA...</td>\n",
       "    </tr>\n",
       "    <tr>\n",
       "      <th>2</th>\n",
       "      <td>2</td>\n",
       "      <td>61287.067179</td>\n",
       "      <td>5.865889840310001</td>\n",
       "      <td>8.512727430375099</td>\n",
       "      <td>5.130000</td>\n",
       "      <td>36882.159400</td>\n",
       "      <td>$1058987.9878760849</td>\n",
       "      <td>9127 Elizabeth Stravenue\\nDanieltown, WI 06482...</td>\n",
       "    </tr>\n",
       "    <tr>\n",
       "      <th>3</th>\n",
       "      <td>3</td>\n",
       "      <td>63345.240046</td>\n",
       "      <td>7.1882360945186425</td>\n",
       "      <td>?</td>\n",
       "      <td>3.998083</td>\n",
       "      <td>34310.242831</td>\n",
       "      <td>Rs16808.224088392624</td>\n",
       "      <td>USS Barnett\\nFPO AP 44820</td>\n",
       "    </tr>\n",
       "    <tr>\n",
       "      <th>4</th>\n",
       "      <td>4</td>\n",
       "      <td>59982.197226</td>\n",
       "      <td>5.040554523106283</td>\n",
       "      <td>7.839387785120487</td>\n",
       "      <td>4.230000</td>\n",
       "      <td>26354.109472</td>\n",
       "      <td>$630943.4893385402</td>\n",
       "      <td>USNS Raymond\\nFPO AE 09386</td>\n",
       "    </tr>\n",
       "  </tbody>\n",
       "</table>\n",
       "</div>"
      ],
      "text/plain": [
       "   ids  Avg. Area Income Avg. Area House Age Avg. Area Number of Rooms  \\\n",
       "0    0      79545.458574             missing                         ?   \n",
       "1    1      79248.642455  6.0028998082752425         6.730821019094919   \n",
       "2    2      61287.067179   5.865889840310001         8.512727430375099   \n",
       "3    3      63345.240046  7.1882360945186425                         ?   \n",
       "4    4      59982.197226   5.040554523106283         7.839387785120487   \n",
       "\n",
       "   Avg. Area Number of Bedrooms  Area Population                 Price  \\\n",
       "0                      3.998083     23086.800503   $1059033.5578701235   \n",
       "1                      3.090000     40173.072174  Rs20078.545531292668   \n",
       "2                      5.130000     36882.159400   $1058987.9878760849   \n",
       "3                      3.998083     34310.242831  Rs16808.224088392624   \n",
       "4                      4.230000     26354.109472    $630943.4893385402   \n",
       "\n",
       "                                             Address  \n",
       "0  208 Michael Ferry Apt. 674\\nLaurabury, NE 3701...  \n",
       "1  188 Johnson Views Suite 079\\nLake Kathleen, CA...  \n",
       "2  9127 Elizabeth Stravenue\\nDanieltown, WI 06482...  \n",
       "3                          USS Barnett\\nFPO AP 44820  \n",
       "4                         USNS Raymond\\nFPO AE 09386  "
      ]
     },
     "execution_count": 7,
     "metadata": {},
     "output_type": "execute_result"
    }
   ],
   "source": [
    "df.head()"
   ]
  },
  {
   "cell_type": "markdown",
   "id": "8cbdc3b2",
   "metadata": {},
   "source": [
    "-Here we can see, in Avg. Area House Age and Avg. Area Number of Rooms , there is a missing value, now we have to fill it using df.fillna()"
   ]
  },
  {
   "cell_type": "code",
   "execution_count": 8,
   "id": "fee7b472",
   "metadata": {},
   "outputs": [],
   "source": [
    "df[\"Avg. Area House Age\"].replace(\"missing\",np.nan, inplace=True)\n",
    "df[\"Avg. Area House Age\"]=df[\"Avg. Area House Age\"].astype(\"float64\")\n",
    "cmean = df[\"Avg. Area House Age\"].mean()\n",
    "df[\"Avg. Area House Age\"].fillna(amean, inplace = True)"
   ]
  },
  {
   "cell_type": "code",
   "execution_count": 9,
   "id": "ea5cc562",
   "metadata": {},
   "outputs": [],
   "source": [
    "df[\"Avg. Area Number of Rooms\"].replace(\"?\",np.nan, inplace=True)\n",
    "df[\"Avg. Area Number of Rooms\"]=df[\"Avg. Area Number of Rooms\"].astype(\"float64\")\n",
    "dmean = df[\"Avg. Area Number of Rooms\"].mean()\n",
    "df[\"Avg. Area Number of Rooms\"].fillna(amean, inplace = True)"
   ]
  },
  {
   "cell_type": "markdown",
   "id": "eb751c33",
   "metadata": {},
   "source": [
    "# Now again we will check df.head()"
   ]
  },
  {
   "cell_type": "code",
   "execution_count": 10,
   "id": "dfa9b7a7",
   "metadata": {},
   "outputs": [
    {
     "data": {
      "text/html": [
       "<div>\n",
       "<style scoped>\n",
       "    .dataframe tbody tr th:only-of-type {\n",
       "        vertical-align: middle;\n",
       "    }\n",
       "\n",
       "    .dataframe tbody tr th {\n",
       "        vertical-align: top;\n",
       "    }\n",
       "\n",
       "    .dataframe thead th {\n",
       "        text-align: right;\n",
       "    }\n",
       "</style>\n",
       "<table border=\"1\" class=\"dataframe\">\n",
       "  <thead>\n",
       "    <tr style=\"text-align: right;\">\n",
       "      <th></th>\n",
       "      <th>ids</th>\n",
       "      <th>Avg. Area Income</th>\n",
       "      <th>Avg. Area House Age</th>\n",
       "      <th>Avg. Area Number of Rooms</th>\n",
       "      <th>Avg. Area Number of Bedrooms</th>\n",
       "      <th>Area Population</th>\n",
       "      <th>Price</th>\n",
       "      <th>Address</th>\n",
       "    </tr>\n",
       "  </thead>\n",
       "  <tbody>\n",
       "    <tr>\n",
       "      <th>0</th>\n",
       "      <td>0</td>\n",
       "      <td>79545.458574</td>\n",
       "      <td>3.998083</td>\n",
       "      <td>3.998083</td>\n",
       "      <td>3.998083</td>\n",
       "      <td>23086.800503</td>\n",
       "      <td>$1059033.5578701235</td>\n",
       "      <td>208 Michael Ferry Apt. 674\\nLaurabury, NE 3701...</td>\n",
       "    </tr>\n",
       "    <tr>\n",
       "      <th>1</th>\n",
       "      <td>1</td>\n",
       "      <td>79248.642455</td>\n",
       "      <td>6.002900</td>\n",
       "      <td>6.730821</td>\n",
       "      <td>3.090000</td>\n",
       "      <td>40173.072174</td>\n",
       "      <td>Rs20078.545531292668</td>\n",
       "      <td>188 Johnson Views Suite 079\\nLake Kathleen, CA...</td>\n",
       "    </tr>\n",
       "    <tr>\n",
       "      <th>2</th>\n",
       "      <td>2</td>\n",
       "      <td>61287.067179</td>\n",
       "      <td>5.865890</td>\n",
       "      <td>8.512727</td>\n",
       "      <td>5.130000</td>\n",
       "      <td>36882.159400</td>\n",
       "      <td>$1058987.9878760849</td>\n",
       "      <td>9127 Elizabeth Stravenue\\nDanieltown, WI 06482...</td>\n",
       "    </tr>\n",
       "    <tr>\n",
       "      <th>3</th>\n",
       "      <td>3</td>\n",
       "      <td>63345.240046</td>\n",
       "      <td>7.188236</td>\n",
       "      <td>3.998083</td>\n",
       "      <td>3.998083</td>\n",
       "      <td>34310.242831</td>\n",
       "      <td>Rs16808.224088392624</td>\n",
       "      <td>USS Barnett\\nFPO AP 44820</td>\n",
       "    </tr>\n",
       "    <tr>\n",
       "      <th>4</th>\n",
       "      <td>4</td>\n",
       "      <td>59982.197226</td>\n",
       "      <td>5.040555</td>\n",
       "      <td>7.839388</td>\n",
       "      <td>4.230000</td>\n",
       "      <td>26354.109472</td>\n",
       "      <td>$630943.4893385402</td>\n",
       "      <td>USNS Raymond\\nFPO AE 09386</td>\n",
       "    </tr>\n",
       "  </tbody>\n",
       "</table>\n",
       "</div>"
      ],
      "text/plain": [
       "   ids  Avg. Area Income  Avg. Area House Age  Avg. Area Number of Rooms  \\\n",
       "0    0      79545.458574             3.998083                   3.998083   \n",
       "1    1      79248.642455             6.002900                   6.730821   \n",
       "2    2      61287.067179             5.865890                   8.512727   \n",
       "3    3      63345.240046             7.188236                   3.998083   \n",
       "4    4      59982.197226             5.040555                   7.839388   \n",
       "\n",
       "   Avg. Area Number of Bedrooms  Area Population                 Price  \\\n",
       "0                      3.998083     23086.800503   $1059033.5578701235   \n",
       "1                      3.090000     40173.072174  Rs20078.545531292668   \n",
       "2                      5.130000     36882.159400   $1058987.9878760849   \n",
       "3                      3.998083     34310.242831  Rs16808.224088392624   \n",
       "4                      4.230000     26354.109472    $630943.4893385402   \n",
       "\n",
       "                                             Address  \n",
       "0  208 Michael Ferry Apt. 674\\nLaurabury, NE 3701...  \n",
       "1  188 Johnson Views Suite 079\\nLake Kathleen, CA...  \n",
       "2  9127 Elizabeth Stravenue\\nDanieltown, WI 06482...  \n",
       "3                          USS Barnett\\nFPO AP 44820  \n",
       "4                         USNS Raymond\\nFPO AE 09386  "
      ]
     },
     "execution_count": 10,
     "metadata": {},
     "output_type": "execute_result"
    }
   ],
   "source": [
    "df.head()"
   ]
  },
  {
   "cell_type": "code",
   "execution_count": 11,
   "id": "9ecc3e1d",
   "metadata": {},
   "outputs": [
    {
     "name": "stdout",
     "output_type": "stream",
     "text": [
      "<class 'pandas.core.frame.DataFrame'>\n",
      "RangeIndex: 5000 entries, 0 to 4999\n",
      "Data columns (total 8 columns):\n",
      " #   Column                        Non-Null Count  Dtype  \n",
      "---  ------                        --------------  -----  \n",
      " 0   ids                           5000 non-null   int64  \n",
      " 1   Avg. Area Income              5000 non-null   float64\n",
      " 2   Avg. Area House Age           5000 non-null   float64\n",
      " 3   Avg. Area Number of Rooms     5000 non-null   float64\n",
      " 4   Avg. Area Number of Bedrooms  5000 non-null   float64\n",
      " 5   Area Population               5000 non-null   float64\n",
      " 6   Price                         5000 non-null   object \n",
      " 7   Address                       5000 non-null   object \n",
      "dtypes: float64(5), int64(1), object(2)\n",
      "memory usage: 312.6+ KB\n"
     ]
    }
   ],
   "source": [
    "df.info()"
   ]
  },
  {
   "cell_type": "markdown",
   "id": "eedfbb88",
   "metadata": {},
   "source": [
    "Now we can see, no NULL values are present.\n"
   ]
  },
  {
   "cell_type": "markdown",
   "id": "c8f3b406",
   "metadata": {},
   "source": [
    "# Now going to split state from the given address column:"
   ]
  },
  {
   "cell_type": "code",
   "execution_count": 12,
   "id": "4cc47c10",
   "metadata": {},
   "outputs": [
    {
     "data": {
      "text/plain": [
       "'AE'"
      ]
     },
     "execution_count": 12,
     "metadata": {},
     "output_type": "execute_result"
    }
   ],
   "source": [
    "df[\"Address\"][4].split()[-2]"
   ]
  },
  {
   "cell_type": "code",
   "execution_count": 13,
   "id": "4ca1b8ea",
   "metadata": {},
   "outputs": [],
   "source": [
    "def state(x):\n",
    "    s = x.split()[-2]\n",
    "    return s"
   ]
  },
  {
   "cell_type": "code",
   "execution_count": 14,
   "id": "9c0a132a",
   "metadata": {},
   "outputs": [],
   "source": [
    "df[\"State\"] = df[\"Address\"].apply(state)"
   ]
  },
  {
   "cell_type": "code",
   "execution_count": 15,
   "id": "1b6ad009",
   "metadata": {},
   "outputs": [
    {
     "data": {
      "text/plain": [
       "0       NE\n",
       "1       CA\n",
       "2       WI\n",
       "3       AP\n",
       "4       AE\n",
       "        ..\n",
       "4995    AP\n",
       "4996    AA\n",
       "4997    VA\n",
       "4998    AE\n",
       "4999    NV\n",
       "Name: State, Length: 5000, dtype: object"
      ]
     },
     "execution_count": 15,
     "metadata": {},
     "output_type": "execute_result"
    }
   ],
   "source": [
    "df[\"State\"]"
   ]
  },
  {
   "cell_type": "code",
   "execution_count": 16,
   "id": "17c5be98",
   "metadata": {},
   "outputs": [
    {
     "data": {
      "text/html": [
       "<div>\n",
       "<style scoped>\n",
       "    .dataframe tbody tr th:only-of-type {\n",
       "        vertical-align: middle;\n",
       "    }\n",
       "\n",
       "    .dataframe tbody tr th {\n",
       "        vertical-align: top;\n",
       "    }\n",
       "\n",
       "    .dataframe thead th {\n",
       "        text-align: right;\n",
       "    }\n",
       "</style>\n",
       "<table border=\"1\" class=\"dataframe\">\n",
       "  <thead>\n",
       "    <tr style=\"text-align: right;\">\n",
       "      <th></th>\n",
       "      <th>ids</th>\n",
       "      <th>Avg. Area Income</th>\n",
       "      <th>Avg. Area House Age</th>\n",
       "      <th>Avg. Area Number of Rooms</th>\n",
       "      <th>Avg. Area Number of Bedrooms</th>\n",
       "      <th>Area Population</th>\n",
       "      <th>Price</th>\n",
       "      <th>Address</th>\n",
       "      <th>State</th>\n",
       "    </tr>\n",
       "  </thead>\n",
       "  <tbody>\n",
       "    <tr>\n",
       "      <th>0</th>\n",
       "      <td>0</td>\n",
       "      <td>79545.458574</td>\n",
       "      <td>3.998083</td>\n",
       "      <td>3.998083</td>\n",
       "      <td>3.998083</td>\n",
       "      <td>23086.800503</td>\n",
       "      <td>$1059033.5578701235</td>\n",
       "      <td>208 Michael Ferry Apt. 674\\nLaurabury, NE 3701...</td>\n",
       "      <td>NE</td>\n",
       "    </tr>\n",
       "    <tr>\n",
       "      <th>1</th>\n",
       "      <td>1</td>\n",
       "      <td>79248.642455</td>\n",
       "      <td>6.002900</td>\n",
       "      <td>6.730821</td>\n",
       "      <td>3.090000</td>\n",
       "      <td>40173.072174</td>\n",
       "      <td>Rs20078.545531292668</td>\n",
       "      <td>188 Johnson Views Suite 079\\nLake Kathleen, CA...</td>\n",
       "      <td>CA</td>\n",
       "    </tr>\n",
       "    <tr>\n",
       "      <th>2</th>\n",
       "      <td>2</td>\n",
       "      <td>61287.067179</td>\n",
       "      <td>5.865890</td>\n",
       "      <td>8.512727</td>\n",
       "      <td>5.130000</td>\n",
       "      <td>36882.159400</td>\n",
       "      <td>$1058987.9878760849</td>\n",
       "      <td>9127 Elizabeth Stravenue\\nDanieltown, WI 06482...</td>\n",
       "      <td>WI</td>\n",
       "    </tr>\n",
       "    <tr>\n",
       "      <th>3</th>\n",
       "      <td>3</td>\n",
       "      <td>63345.240046</td>\n",
       "      <td>7.188236</td>\n",
       "      <td>3.998083</td>\n",
       "      <td>3.998083</td>\n",
       "      <td>34310.242831</td>\n",
       "      <td>Rs16808.224088392624</td>\n",
       "      <td>USS Barnett\\nFPO AP 44820</td>\n",
       "      <td>AP</td>\n",
       "    </tr>\n",
       "    <tr>\n",
       "      <th>4</th>\n",
       "      <td>4</td>\n",
       "      <td>59982.197226</td>\n",
       "      <td>5.040555</td>\n",
       "      <td>7.839388</td>\n",
       "      <td>4.230000</td>\n",
       "      <td>26354.109472</td>\n",
       "      <td>$630943.4893385402</td>\n",
       "      <td>USNS Raymond\\nFPO AE 09386</td>\n",
       "      <td>AE</td>\n",
       "    </tr>\n",
       "  </tbody>\n",
       "</table>\n",
       "</div>"
      ],
      "text/plain": [
       "   ids  Avg. Area Income  Avg. Area House Age  Avg. Area Number of Rooms  \\\n",
       "0    0      79545.458574             3.998083                   3.998083   \n",
       "1    1      79248.642455             6.002900                   6.730821   \n",
       "2    2      61287.067179             5.865890                   8.512727   \n",
       "3    3      63345.240046             7.188236                   3.998083   \n",
       "4    4      59982.197226             5.040555                   7.839388   \n",
       "\n",
       "   Avg. Area Number of Bedrooms  Area Population                 Price  \\\n",
       "0                      3.998083     23086.800503   $1059033.5578701235   \n",
       "1                      3.090000     40173.072174  Rs20078.545531292668   \n",
       "2                      5.130000     36882.159400   $1058987.9878760849   \n",
       "3                      3.998083     34310.242831  Rs16808.224088392624   \n",
       "4                      4.230000     26354.109472    $630943.4893385402   \n",
       "\n",
       "                                             Address State  \n",
       "0  208 Michael Ferry Apt. 674\\nLaurabury, NE 3701...    NE  \n",
       "1  188 Johnson Views Suite 079\\nLake Kathleen, CA...    CA  \n",
       "2  9127 Elizabeth Stravenue\\nDanieltown, WI 06482...    WI  \n",
       "3                          USS Barnett\\nFPO AP 44820    AP  \n",
       "4                         USNS Raymond\\nFPO AE 09386    AE  "
      ]
     },
     "execution_count": 16,
     "metadata": {},
     "output_type": "execute_result"
    }
   ],
   "source": [
    "df.head()"
   ]
  },
  {
   "cell_type": "markdown",
   "id": "11e8ee1b",
   "metadata": {},
   "source": [
    "# Droping the Address and ids columns:"
   ]
  },
  {
   "cell_type": "code",
   "execution_count": 17,
   "id": "17138649",
   "metadata": {},
   "outputs": [],
   "source": [
    "df.drop(\"ids\",axis = 1, inplace=True)"
   ]
  },
  {
   "cell_type": "code",
   "execution_count": 18,
   "id": "5f57c265",
   "metadata": {},
   "outputs": [],
   "source": [
    "df.drop(\"Address\",axis = 1, inplace=True)"
   ]
  },
  {
   "cell_type": "code",
   "execution_count": 19,
   "id": "bc74b0e7",
   "metadata": {},
   "outputs": [
    {
     "data": {
      "text/html": [
       "<div>\n",
       "<style scoped>\n",
       "    .dataframe tbody tr th:only-of-type {\n",
       "        vertical-align: middle;\n",
       "    }\n",
       "\n",
       "    .dataframe tbody tr th {\n",
       "        vertical-align: top;\n",
       "    }\n",
       "\n",
       "    .dataframe thead th {\n",
       "        text-align: right;\n",
       "    }\n",
       "</style>\n",
       "<table border=\"1\" class=\"dataframe\">\n",
       "  <thead>\n",
       "    <tr style=\"text-align: right;\">\n",
       "      <th></th>\n",
       "      <th>Avg. Area Income</th>\n",
       "      <th>Avg. Area House Age</th>\n",
       "      <th>Avg. Area Number of Rooms</th>\n",
       "      <th>Avg. Area Number of Bedrooms</th>\n",
       "      <th>Area Population</th>\n",
       "      <th>Price</th>\n",
       "      <th>State</th>\n",
       "    </tr>\n",
       "  </thead>\n",
       "  <tbody>\n",
       "    <tr>\n",
       "      <th>0</th>\n",
       "      <td>79545.458574</td>\n",
       "      <td>3.998083</td>\n",
       "      <td>3.998083</td>\n",
       "      <td>3.998083</td>\n",
       "      <td>23086.800503</td>\n",
       "      <td>$1059033.5578701235</td>\n",
       "      <td>NE</td>\n",
       "    </tr>\n",
       "    <tr>\n",
       "      <th>1</th>\n",
       "      <td>79248.642455</td>\n",
       "      <td>6.002900</td>\n",
       "      <td>6.730821</td>\n",
       "      <td>3.090000</td>\n",
       "      <td>40173.072174</td>\n",
       "      <td>Rs20078.545531292668</td>\n",
       "      <td>CA</td>\n",
       "    </tr>\n",
       "    <tr>\n",
       "      <th>2</th>\n",
       "      <td>61287.067179</td>\n",
       "      <td>5.865890</td>\n",
       "      <td>8.512727</td>\n",
       "      <td>5.130000</td>\n",
       "      <td>36882.159400</td>\n",
       "      <td>$1058987.9878760849</td>\n",
       "      <td>WI</td>\n",
       "    </tr>\n",
       "    <tr>\n",
       "      <th>3</th>\n",
       "      <td>63345.240046</td>\n",
       "      <td>7.188236</td>\n",
       "      <td>3.998083</td>\n",
       "      <td>3.998083</td>\n",
       "      <td>34310.242831</td>\n",
       "      <td>Rs16808.224088392624</td>\n",
       "      <td>AP</td>\n",
       "    </tr>\n",
       "    <tr>\n",
       "      <th>4</th>\n",
       "      <td>59982.197226</td>\n",
       "      <td>5.040555</td>\n",
       "      <td>7.839388</td>\n",
       "      <td>4.230000</td>\n",
       "      <td>26354.109472</td>\n",
       "      <td>$630943.4893385402</td>\n",
       "      <td>AE</td>\n",
       "    </tr>\n",
       "  </tbody>\n",
       "</table>\n",
       "</div>"
      ],
      "text/plain": [
       "   Avg. Area Income  Avg. Area House Age  Avg. Area Number of Rooms  \\\n",
       "0      79545.458574             3.998083                   3.998083   \n",
       "1      79248.642455             6.002900                   6.730821   \n",
       "2      61287.067179             5.865890                   8.512727   \n",
       "3      63345.240046             7.188236                   3.998083   \n",
       "4      59982.197226             5.040555                   7.839388   \n",
       "\n",
       "   Avg. Area Number of Bedrooms  Area Population                 Price State  \n",
       "0                      3.998083     23086.800503   $1059033.5578701235    NE  \n",
       "1                      3.090000     40173.072174  Rs20078.545531292668    CA  \n",
       "2                      5.130000     36882.159400   $1058987.9878760849    WI  \n",
       "3                      3.998083     34310.242831  Rs16808.224088392624    AP  \n",
       "4                      4.230000     26354.109472    $630943.4893385402    AE  "
      ]
     },
     "execution_count": 19,
     "metadata": {},
     "output_type": "execute_result"
    }
   ],
   "source": [
    "df.head()"
   ]
  },
  {
   "cell_type": "markdown",
   "id": "46c89ad4",
   "metadata": {},
   "source": [
    "# Now we are going to convert all the price in Rs. to Dollar:"
   ]
  },
  {
   "cell_type": "code",
   "execution_count": 20,
   "id": "9b8226ce",
   "metadata": {},
   "outputs": [
    {
     "data": {
      "text/plain": [
       "'$'"
      ]
     },
     "execution_count": 20,
     "metadata": {},
     "output_type": "execute_result"
    }
   ],
   "source": [
    "df[\"Price\"][0][0]"
   ]
  },
  {
   "cell_type": "markdown",
   "id": "60747687",
   "metadata": {},
   "source": [
    "# Creating a function in order to change the Rs. into Dollars"
   ]
  },
  {
   "cell_type": "code",
   "execution_count": 21,
   "id": "72aaaf35",
   "metadata": {},
   "outputs": [],
   "source": [
    "def convert(x):\n",
    "    if(x[0]==\"R\"):\n",
    "        x=x.split(\"R\")\n",
    "        x=x[-1]\n",
    "        x=float(x)*75\n",
    "        return x\n",
    "    else:\n",
    "        x=x.split(\"$\")\n",
    "        x=x[-1]\n",
    "        return x"
   ]
  },
  {
   "cell_type": "code",
   "execution_count": 22,
   "id": "8209fb44",
   "metadata": {},
   "outputs": [],
   "source": [
    "df['Price']=df['Price'].str.replace('s','')"
   ]
  },
  {
   "cell_type": "code",
   "execution_count": 23,
   "id": "f20374ff",
   "metadata": {},
   "outputs": [],
   "source": [
    "df[\"Price(in dollars)\"]=df[\"Price\"].apply(convert)"
   ]
  },
  {
   "cell_type": "code",
   "execution_count": 24,
   "id": "a2d9e149",
   "metadata": {},
   "outputs": [
    {
     "data": {
      "text/plain": [
       "0       1059033.5578701235\n",
       "1           1505890.914847\n",
       "2       1058987.9878760849\n",
       "3           1260616.806629\n",
       "4        630943.4893385402\n",
       "               ...        \n",
       "4995        1060193.785885\n",
       "4996     1482617.728622024\n",
       "4997        1030729.583152\n",
       "4998    1198656.8724076871\n",
       "4999        1298950.480267\n",
       "Name: Price(in dollars), Length: 5000, dtype: object"
      ]
     },
     "execution_count": 24,
     "metadata": {},
     "output_type": "execute_result"
    }
   ],
   "source": [
    "df[\"Price(in dollars)\"]"
   ]
  },
  {
   "cell_type": "code",
   "execution_count": 25,
   "id": "e699c6e1",
   "metadata": {},
   "outputs": [],
   "source": [
    "df.drop(\"Price\", axis=1,inplace=True)"
   ]
  },
  {
   "cell_type": "markdown",
   "id": "b296da52",
   "metadata": {},
   "source": [
    "# Checking df.head()"
   ]
  },
  {
   "cell_type": "code",
   "execution_count": 26,
   "id": "40fec861",
   "metadata": {},
   "outputs": [
    {
     "data": {
      "text/html": [
       "<div>\n",
       "<style scoped>\n",
       "    .dataframe tbody tr th:only-of-type {\n",
       "        vertical-align: middle;\n",
       "    }\n",
       "\n",
       "    .dataframe tbody tr th {\n",
       "        vertical-align: top;\n",
       "    }\n",
       "\n",
       "    .dataframe thead th {\n",
       "        text-align: right;\n",
       "    }\n",
       "</style>\n",
       "<table border=\"1\" class=\"dataframe\">\n",
       "  <thead>\n",
       "    <tr style=\"text-align: right;\">\n",
       "      <th></th>\n",
       "      <th>Avg. Area Income</th>\n",
       "      <th>Avg. Area House Age</th>\n",
       "      <th>Avg. Area Number of Rooms</th>\n",
       "      <th>Avg. Area Number of Bedrooms</th>\n",
       "      <th>Area Population</th>\n",
       "      <th>State</th>\n",
       "      <th>Price(in dollars)</th>\n",
       "    </tr>\n",
       "  </thead>\n",
       "  <tbody>\n",
       "    <tr>\n",
       "      <th>0</th>\n",
       "      <td>79545.458574</td>\n",
       "      <td>3.998083</td>\n",
       "      <td>3.998083</td>\n",
       "      <td>3.998083</td>\n",
       "      <td>23086.800503</td>\n",
       "      <td>NE</td>\n",
       "      <td>1059033.5578701235</td>\n",
       "    </tr>\n",
       "    <tr>\n",
       "      <th>1</th>\n",
       "      <td>79248.642455</td>\n",
       "      <td>6.002900</td>\n",
       "      <td>6.730821</td>\n",
       "      <td>3.090000</td>\n",
       "      <td>40173.072174</td>\n",
       "      <td>CA</td>\n",
       "      <td>1505890.914847</td>\n",
       "    </tr>\n",
       "    <tr>\n",
       "      <th>2</th>\n",
       "      <td>61287.067179</td>\n",
       "      <td>5.865890</td>\n",
       "      <td>8.512727</td>\n",
       "      <td>5.130000</td>\n",
       "      <td>36882.159400</td>\n",
       "      <td>WI</td>\n",
       "      <td>1058987.9878760849</td>\n",
       "    </tr>\n",
       "    <tr>\n",
       "      <th>3</th>\n",
       "      <td>63345.240046</td>\n",
       "      <td>7.188236</td>\n",
       "      <td>3.998083</td>\n",
       "      <td>3.998083</td>\n",
       "      <td>34310.242831</td>\n",
       "      <td>AP</td>\n",
       "      <td>1260616.806629</td>\n",
       "    </tr>\n",
       "    <tr>\n",
       "      <th>4</th>\n",
       "      <td>59982.197226</td>\n",
       "      <td>5.040555</td>\n",
       "      <td>7.839388</td>\n",
       "      <td>4.230000</td>\n",
       "      <td>26354.109472</td>\n",
       "      <td>AE</td>\n",
       "      <td>630943.4893385402</td>\n",
       "    </tr>\n",
       "  </tbody>\n",
       "</table>\n",
       "</div>"
      ],
      "text/plain": [
       "   Avg. Area Income  Avg. Area House Age  Avg. Area Number of Rooms  \\\n",
       "0      79545.458574             3.998083                   3.998083   \n",
       "1      79248.642455             6.002900                   6.730821   \n",
       "2      61287.067179             5.865890                   8.512727   \n",
       "3      63345.240046             7.188236                   3.998083   \n",
       "4      59982.197226             5.040555                   7.839388   \n",
       "\n",
       "   Avg. Area Number of Bedrooms  Area Population State   Price(in dollars)  \n",
       "0                      3.998083     23086.800503    NE  1059033.5578701235  \n",
       "1                      3.090000     40173.072174    CA      1505890.914847  \n",
       "2                      5.130000     36882.159400    WI  1058987.9878760849  \n",
       "3                      3.998083     34310.242831    AP      1260616.806629  \n",
       "4                      4.230000     26354.109472    AE   630943.4893385402  "
      ]
     },
     "execution_count": 26,
     "metadata": {},
     "output_type": "execute_result"
    }
   ],
   "source": [
    "df.head()"
   ]
  },
  {
   "cell_type": "markdown",
   "id": "6e57b8e9",
   "metadata": {},
   "source": [
    "# Checking the details by using df.describe()"
   ]
  },
  {
   "cell_type": "code",
   "execution_count": 27,
   "id": "f2808dd6",
   "metadata": {},
   "outputs": [
    {
     "data": {
      "text/html": [
       "<div>\n",
       "<style scoped>\n",
       "    .dataframe tbody tr th:only-of-type {\n",
       "        vertical-align: middle;\n",
       "    }\n",
       "\n",
       "    .dataframe tbody tr th {\n",
       "        vertical-align: top;\n",
       "    }\n",
       "\n",
       "    .dataframe thead th {\n",
       "        text-align: right;\n",
       "    }\n",
       "</style>\n",
       "<table border=\"1\" class=\"dataframe\">\n",
       "  <thead>\n",
       "    <tr style=\"text-align: right;\">\n",
       "      <th></th>\n",
       "      <th>Avg. Area Income</th>\n",
       "      <th>Avg. Area House Age</th>\n",
       "      <th>Avg. Area Number of Rooms</th>\n",
       "      <th>Avg. Area Number of Bedrooms</th>\n",
       "      <th>Area Population</th>\n",
       "    </tr>\n",
       "  </thead>\n",
       "  <tbody>\n",
       "    <tr>\n",
       "      <th>count</th>\n",
       "      <td>5000.000000</td>\n",
       "      <td>5000.000000</td>\n",
       "      <td>5000.000000</td>\n",
       "      <td>5000.000000</td>\n",
       "      <td>5000.000000</td>\n",
       "    </tr>\n",
       "    <tr>\n",
       "      <th>mean</th>\n",
       "      <td>68583.108984</td>\n",
       "      <td>5.974841</td>\n",
       "      <td>5.995437</td>\n",
       "      <td>3.998083</td>\n",
       "      <td>36163.516039</td>\n",
       "    </tr>\n",
       "    <tr>\n",
       "      <th>std</th>\n",
       "      <td>10657.991214</td>\n",
       "      <td>0.992272</td>\n",
       "      <td>1.638331</td>\n",
       "      <td>1.011621</td>\n",
       "      <td>9925.650114</td>\n",
       "    </tr>\n",
       "    <tr>\n",
       "      <th>min</th>\n",
       "      <td>17796.631190</td>\n",
       "      <td>2.644304</td>\n",
       "      <td>3.236194</td>\n",
       "      <td>2.000000</td>\n",
       "      <td>172.610686</td>\n",
       "    </tr>\n",
       "    <tr>\n",
       "      <th>25%</th>\n",
       "      <td>61480.562388</td>\n",
       "      <td>5.320337</td>\n",
       "      <td>3.998083</td>\n",
       "      <td>3.360000</td>\n",
       "      <td>29403.928702</td>\n",
       "    </tr>\n",
       "    <tr>\n",
       "      <th>50%</th>\n",
       "      <td>68804.286404</td>\n",
       "      <td>5.969828</td>\n",
       "      <td>6.290059</td>\n",
       "      <td>3.998083</td>\n",
       "      <td>36199.406689</td>\n",
       "    </tr>\n",
       "    <tr>\n",
       "      <th>75%</th>\n",
       "      <td>75783.338666</td>\n",
       "      <td>6.649509</td>\n",
       "      <td>7.341897</td>\n",
       "      <td>4.280000</td>\n",
       "      <td>42861.290769</td>\n",
       "    </tr>\n",
       "    <tr>\n",
       "      <th>max</th>\n",
       "      <td>107701.748378</td>\n",
       "      <td>9.519088</td>\n",
       "      <td>10.219902</td>\n",
       "      <td>6.500000</td>\n",
       "      <td>69621.713378</td>\n",
       "    </tr>\n",
       "  </tbody>\n",
       "</table>\n",
       "</div>"
      ],
      "text/plain": [
       "       Avg. Area Income  Avg. Area House Age  Avg. Area Number of Rooms  \\\n",
       "count       5000.000000          5000.000000                5000.000000   \n",
       "mean       68583.108984             5.974841                   5.995437   \n",
       "std        10657.991214             0.992272                   1.638331   \n",
       "min        17796.631190             2.644304                   3.236194   \n",
       "25%        61480.562388             5.320337                   3.998083   \n",
       "50%        68804.286404             5.969828                   6.290059   \n",
       "75%        75783.338666             6.649509                   7.341897   \n",
       "max       107701.748378             9.519088                  10.219902   \n",
       "\n",
       "       Avg. Area Number of Bedrooms  Area Population  \n",
       "count                   5000.000000      5000.000000  \n",
       "mean                       3.998083     36163.516039  \n",
       "std                        1.011621      9925.650114  \n",
       "min                        2.000000       172.610686  \n",
       "25%                        3.360000     29403.928702  \n",
       "50%                        3.998083     36199.406689  \n",
       "75%                        4.280000     42861.290769  \n",
       "max                        6.500000     69621.713378  "
      ]
     },
     "execution_count": 27,
     "metadata": {},
     "output_type": "execute_result"
    }
   ],
   "source": [
    "df.describe()"
   ]
  },
  {
   "cell_type": "markdown",
   "id": "d63d19a1",
   "metadata": {},
   "source": [
    "# EDA PREPROCESSING"
   ]
  },
  {
   "cell_type": "markdown",
   "id": "ecbc19ed",
   "metadata": {},
   "source": [
    "# Now going to check: How many states are present in the dataset by using Countplot()."
   ]
  },
  {
   "cell_type": "code",
   "execution_count": 28,
   "id": "66b45bce",
   "metadata": {},
   "outputs": [
    {
     "data": {
      "image/png": "[encoded data removed]",
      "text/plain": [
       "<Figure size 864x864 with 1 Axes>"
      ]
     },
     "metadata": {
      "needs_background": "light"
     },
     "output_type": "display_data"
    }
   ],
   "source": [
    "plt.figure(figsize=(12,12))\n",
    "sns.countplot(data=df, y=\"State\")\n",
    "plt.grid(True)\n",
    "plt.show()"
   ]
  },
  {
   "cell_type": "markdown",
   "id": "367f323a",
   "metadata": {},
   "source": [
    "-From this we can see, The count of AA state is more in dataset and VI state has less count."
   ]
  },
  {
   "cell_type": "code",
   "execution_count": 29,
   "id": "4b4c9379",
   "metadata": {},
   "outputs": [
    {
     "data": {
      "text/plain": [
       "0       1059033.5578701235\n",
       "1           1505890.914847\n",
       "2       1058987.9878760849\n",
       "3           1260616.806629\n",
       "4        630943.4893385402\n",
       "               ...        \n",
       "4995        1060193.785885\n",
       "4996     1482617.728622024\n",
       "4997        1030729.583152\n",
       "4998    1198656.8724076871\n",
       "4999        1298950.480267\n",
       "Name: Price(in dollars), Length: 5000, dtype: object"
      ]
     },
     "execution_count": 29,
     "metadata": {},
     "output_type": "execute_result"
    }
   ],
   "source": [
    "df[\"Price(in dollars)\"]"
   ]
  },
  {
   "cell_type": "markdown",
   "id": "5a40e317",
   "metadata": {},
   "source": [
    "Here, the price is in object we have to convert it into Float. for that we have to use astype()"
   ]
  },
  {
   "cell_type": "code",
   "execution_count": 30,
   "id": "abaf66d2",
   "metadata": {},
   "outputs": [],
   "source": [
    "df[\"Price(in dollars)\"]=df[\"Price(in dollars)\"].astype(\"float64\")"
   ]
  },
  {
   "cell_type": "code",
   "execution_count": 31,
   "id": "5da166a4",
   "metadata": {},
   "outputs": [
    {
     "data": {
      "text/plain": [
       "0       1.059034e+06\n",
       "1       1.505891e+06\n",
       "2       1.058988e+06\n",
       "3       1.260617e+06\n",
       "4       6.309435e+05\n",
       "            ...     \n",
       "4995    1.060194e+06\n",
       "4996    1.482618e+06\n",
       "4997    1.030730e+06\n",
       "4998    1.198657e+06\n",
       "4999    1.298950e+06\n",
       "Name: Price(in dollars), Length: 5000, dtype: float64"
      ]
     },
     "execution_count": 31,
     "metadata": {},
     "output_type": "execute_result"
    }
   ],
   "source": [
    "df[\"Price(in dollars)\"]"
   ]
  },
  {
   "cell_type": "markdown",
   "id": "500f432d",
   "metadata": {},
   "source": [
    "Now we can see the price got converted into float."
   ]
  },
  {
   "cell_type": "markdown",
   "id": "23875130",
   "metadata": {},
   "source": [
    "# Now we will use boxplot on price to check whether it have any outliers or not."
   ]
  },
  {
   "cell_type": "code",
   "execution_count": 32,
   "id": "5b476cfb",
   "metadata": {},
   "outputs": [
    {
     "data": {
      "image/png": "[encoded data removed]",
      "text/plain": [
       "<Figure size 576x576 with 1 Axes>"
      ]
     },
     "metadata": {
      "needs_background": "light"
     },
     "output_type": "display_data"
    }
   ],
   "source": [
    "plt.figure(figsize=(8,8))\n",
    "sns.boxplot(data=df, x=\"Price(in dollars)\")\n",
    "plt.show()"
   ]
  },
  {
   "cell_type": "markdown",
   "id": "54684ebb",
   "metadata": {},
   "source": [
    "Here, in boxplot we can see outliers are present, so we need to delete these outliers by using df.drop()"
   ]
  },
  {
   "cell_type": "markdown",
   "id": "7cc14405",
   "metadata": {},
   "source": [
    "# Treating the OUTLIERS"
   ]
  },
  {
   "cell_type": "code",
   "execution_count": 33,
   "id": "28f3838b",
   "metadata": {},
   "outputs": [
    {
     "data": {
      "text/html": [
       "<div>\n",
       "<style scoped>\n",
       "    .dataframe tbody tr th:only-of-type {\n",
       "        vertical-align: middle;\n",
       "    }\n",
       "\n",
       "    .dataframe tbody tr th {\n",
       "        vertical-align: top;\n",
       "    }\n",
       "\n",
       "    .dataframe thead th {\n",
       "        text-align: right;\n",
       "    }\n",
       "</style>\n",
       "<table border=\"1\" class=\"dataframe\">\n",
       "  <thead>\n",
       "    <tr style=\"text-align: right;\">\n",
       "      <th></th>\n",
       "      <th>Avg. Area Income</th>\n",
       "      <th>Avg. Area House Age</th>\n",
       "      <th>Avg. Area Number of Rooms</th>\n",
       "      <th>Avg. Area Number of Bedrooms</th>\n",
       "      <th>Area Population</th>\n",
       "      <th>State</th>\n",
       "      <th>Price(in dollars)</th>\n",
       "    </tr>\n",
       "  </thead>\n",
       "  <tbody>\n",
       "  </tbody>\n",
       "</table>\n",
       "</div>"
      ],
      "text/plain": [
       "Empty DataFrame\n",
       "Columns: [Avg. Area Income, Avg. Area House Age, Avg. Area Number of Rooms, Avg. Area Number of Bedrooms, Area Population, State, Price(in dollars)]\n",
       "Index: []"
      ]
     },
     "execution_count": 33,
     "metadata": {},
     "output_type": "execute_result"
    }
   ],
   "source": [
    "df[(df[\"Price(in dollars)\"]<-2)]"
   ]
  },
  {
   "cell_type": "code",
   "execution_count": 34,
   "id": "2c4885ef",
   "metadata": {},
   "outputs": [],
   "source": [
    "df.drop([38,39,90,107,110,4744,4855,4889,4898,4990],inplace=True)"
   ]
  },
  {
   "cell_type": "code",
   "execution_count": 35,
   "id": "f4520e5d",
   "metadata": {},
   "outputs": [
    {
     "data": {
      "text/html": [
       "<div>\n",
       "<style scoped>\n",
       "    .dataframe tbody tr th:only-of-type {\n",
       "        vertical-align: middle;\n",
       "    }\n",
       "\n",
       "    .dataframe tbody tr th {\n",
       "        vertical-align: top;\n",
       "    }\n",
       "\n",
       "    .dataframe thead th {\n",
       "        text-align: right;\n",
       "    }\n",
       "</style>\n",
       "<table border=\"1\" class=\"dataframe\">\n",
       "  <thead>\n",
       "    <tr style=\"text-align: right;\">\n",
       "      <th></th>\n",
       "      <th>Avg. Area Income</th>\n",
       "      <th>Avg. Area House Age</th>\n",
       "      <th>Avg. Area Number of Rooms</th>\n",
       "      <th>Avg. Area Number of Bedrooms</th>\n",
       "      <th>Area Population</th>\n",
       "      <th>State</th>\n",
       "      <th>Price(in dollars)</th>\n",
       "    </tr>\n",
       "  </thead>\n",
       "  <tbody>\n",
       "  </tbody>\n",
       "</table>\n",
       "</div>"
      ],
      "text/plain": [
       "Empty DataFrame\n",
       "Columns: [Avg. Area Income, Avg. Area House Age, Avg. Area Number of Rooms, Avg. Area Number of Bedrooms, Area Population, State, Price(in dollars)]\n",
       "Index: []"
      ]
     },
     "execution_count": 35,
     "metadata": {},
     "output_type": "execute_result"
    }
   ],
   "source": [
    "df[(df[\"Price(in dollars)\"]<-2)]"
   ]
  },
  {
   "cell_type": "code",
   "execution_count": 36,
   "id": "201d334e",
   "metadata": {},
   "outputs": [],
   "source": [
    "df.drop([128,137,263,269,437,4637,4781,4715,4729,4733],inplace=True)"
   ]
  },
  {
   "cell_type": "code",
   "execution_count": 37,
   "id": "dee7cdad",
   "metadata": {},
   "outputs": [
    {
     "data": {
      "text/html": [
       "<div>\n",
       "<style scoped>\n",
       "    .dataframe tbody tr th:only-of-type {\n",
       "        vertical-align: middle;\n",
       "    }\n",
       "\n",
       "    .dataframe tbody tr th {\n",
       "        vertical-align: top;\n",
       "    }\n",
       "\n",
       "    .dataframe thead th {\n",
       "        text-align: right;\n",
       "    }\n",
       "</style>\n",
       "<table border=\"1\" class=\"dataframe\">\n",
       "  <thead>\n",
       "    <tr style=\"text-align: right;\">\n",
       "      <th></th>\n",
       "      <th>Avg. Area Income</th>\n",
       "      <th>Avg. Area House Age</th>\n",
       "      <th>Avg. Area Number of Rooms</th>\n",
       "      <th>Avg. Area Number of Bedrooms</th>\n",
       "      <th>Area Population</th>\n",
       "      <th>State</th>\n",
       "      <th>Price(in dollars)</th>\n",
       "    </tr>\n",
       "  </thead>\n",
       "  <tbody>\n",
       "  </tbody>\n",
       "</table>\n",
       "</div>"
      ],
      "text/plain": [
       "Empty DataFrame\n",
       "Columns: [Avg. Area Income, Avg. Area House Age, Avg. Area Number of Rooms, Avg. Area Number of Bedrooms, Area Population, State, Price(in dollars)]\n",
       "Index: []"
      ]
     },
     "execution_count": 37,
     "metadata": {},
     "output_type": "execute_result"
    }
   ],
   "source": [
    "df[(df[\"Price(in dollars)\"]<-2)]"
   ]
  },
  {
   "cell_type": "code",
   "execution_count": 38,
   "id": "60ad3f7d",
   "metadata": {},
   "outputs": [],
   "source": [
    "df.drop([638,696,825,856,993,4375,4411,4451,4589,4681],inplace=True)"
   ]
  },
  {
   "cell_type": "code",
   "execution_count": 39,
   "id": "1be417e4",
   "metadata": {},
   "outputs": [
    {
     "data": {
      "text/html": [
       "<div>\n",
       "<style scoped>\n",
       "    .dataframe tbody tr th:only-of-type {\n",
       "        vertical-align: middle;\n",
       "    }\n",
       "\n",
       "    .dataframe tbody tr th {\n",
       "        vertical-align: top;\n",
       "    }\n",
       "\n",
       "    .dataframe thead th {\n",
       "        text-align: right;\n",
       "    }\n",
       "</style>\n",
       "<table border=\"1\" class=\"dataframe\">\n",
       "  <thead>\n",
       "    <tr style=\"text-align: right;\">\n",
       "      <th></th>\n",
       "      <th>Avg. Area Income</th>\n",
       "      <th>Avg. Area House Age</th>\n",
       "      <th>Avg. Area Number of Rooms</th>\n",
       "      <th>Avg. Area Number of Bedrooms</th>\n",
       "      <th>Area Population</th>\n",
       "      <th>State</th>\n",
       "      <th>Price(in dollars)</th>\n",
       "    </tr>\n",
       "  </thead>\n",
       "  <tbody>\n",
       "  </tbody>\n",
       "</table>\n",
       "</div>"
      ],
      "text/plain": [
       "Empty DataFrame\n",
       "Columns: [Avg. Area Income, Avg. Area House Age, Avg. Area Number of Rooms, Avg. Area Number of Bedrooms, Area Population, State, Price(in dollars)]\n",
       "Index: []"
      ]
     },
     "execution_count": 39,
     "metadata": {},
     "output_type": "execute_result"
    }
   ],
   "source": [
    "df[(df[\"Price(in dollars)\"]<-2)]"
   ]
  },
  {
   "cell_type": "code",
   "execution_count": 40,
   "id": "a07f6cad",
   "metadata": {},
   "outputs": [],
   "source": [
    "df.drop([1064,1074,1081,1088,1107,4182,4217,4280,4310,4357],inplace=True)"
   ]
  },
  {
   "cell_type": "code",
   "execution_count": 41,
   "id": "fd923980",
   "metadata": {},
   "outputs": [
    {
     "data": {
      "text/html": [
       "<div>\n",
       "<style scoped>\n",
       "    .dataframe tbody tr th:only-of-type {\n",
       "        vertical-align: middle;\n",
       "    }\n",
       "\n",
       "    .dataframe tbody tr th {\n",
       "        vertical-align: top;\n",
       "    }\n",
       "\n",
       "    .dataframe thead th {\n",
       "        text-align: right;\n",
       "    }\n",
       "</style>\n",
       "<table border=\"1\" class=\"dataframe\">\n",
       "  <thead>\n",
       "    <tr style=\"text-align: right;\">\n",
       "      <th></th>\n",
       "      <th>Avg. Area Income</th>\n",
       "      <th>Avg. Area House Age</th>\n",
       "      <th>Avg. Area Number of Rooms</th>\n",
       "      <th>Avg. Area Number of Bedrooms</th>\n",
       "      <th>Area Population</th>\n",
       "      <th>State</th>\n",
       "      <th>Price(in dollars)</th>\n",
       "    </tr>\n",
       "  </thead>\n",
       "  <tbody>\n",
       "  </tbody>\n",
       "</table>\n",
       "</div>"
      ],
      "text/plain": [
       "Empty DataFrame\n",
       "Columns: [Avg. Area Income, Avg. Area House Age, Avg. Area Number of Rooms, Avg. Area Number of Bedrooms, Area Population, State, Price(in dollars)]\n",
       "Index: []"
      ]
     },
     "execution_count": 41,
     "metadata": {},
     "output_type": "execute_result"
    }
   ],
   "source": [
    "df[(df[\"Price(in dollars)\"]<-2)]"
   ]
  },
  {
   "cell_type": "code",
   "execution_count": 42,
   "id": "c25bab28",
   "metadata": {},
   "outputs": [],
   "source": [
    "df.drop([1141,1212,1221,1259,1271,3785,3787,3922,4034,4116],inplace=True)"
   ]
  },
  {
   "cell_type": "code",
   "execution_count": 43,
   "id": "49227ea5",
   "metadata": {},
   "outputs": [
    {
     "data": {
      "text/html": [
       "<div>\n",
       "<style scoped>\n",
       "    .dataframe tbody tr th:only-of-type {\n",
       "        vertical-align: middle;\n",
       "    }\n",
       "\n",
       "    .dataframe tbody tr th {\n",
       "        vertical-align: top;\n",
       "    }\n",
       "\n",
       "    .dataframe thead th {\n",
       "        text-align: right;\n",
       "    }\n",
       "</style>\n",
       "<table border=\"1\" class=\"dataframe\">\n",
       "  <thead>\n",
       "    <tr style=\"text-align: right;\">\n",
       "      <th></th>\n",
       "      <th>Avg. Area Income</th>\n",
       "      <th>Avg. Area House Age</th>\n",
       "      <th>Avg. Area Number of Rooms</th>\n",
       "      <th>Avg. Area Number of Bedrooms</th>\n",
       "      <th>Area Population</th>\n",
       "      <th>State</th>\n",
       "      <th>Price(in dollars)</th>\n",
       "    </tr>\n",
       "  </thead>\n",
       "  <tbody>\n",
       "  </tbody>\n",
       "</table>\n",
       "</div>"
      ],
      "text/plain": [
       "Empty DataFrame\n",
       "Columns: [Avg. Area Income, Avg. Area House Age, Avg. Area Number of Rooms, Avg. Area Number of Bedrooms, Area Population, State, Price(in dollars)]\n",
       "Index: []"
      ]
     },
     "execution_count": 43,
     "metadata": {},
     "output_type": "execute_result"
    }
   ],
   "source": [
    "df[(df[\"Price(in dollars)\"]<-2)]"
   ]
  },
  {
   "cell_type": "code",
   "execution_count": 44,
   "id": "aeeaf743",
   "metadata": {},
   "outputs": [],
   "source": [
    "df.drop([1354,1356,1363,1459,1492,1510,1578,1592,1601,1615,1628,1657,1661,1672,1727,1741,1799,1914,1986,2017,2092,2103,2116,2284,2324,2517,2597,2634,2656,2658,2758,2658,2756,2791,2892,2915,2956,2959,2963,3010,3089,3091,3184,3185,3197,3211,3212,3217,3223,3416,3470,3477,3540,3570,3587,3619,3632,3645,3686,3744,3762],inplace=True)"
   ]
  },
  {
   "cell_type": "code",
   "execution_count": 45,
   "id": "317acd54",
   "metadata": {},
   "outputs": [
    {
     "data": {
      "text/html": [
       "<div>\n",
       "<style scoped>\n",
       "    .dataframe tbody tr th:only-of-type {\n",
       "        vertical-align: middle;\n",
       "    }\n",
       "\n",
       "    .dataframe tbody tr th {\n",
       "        vertical-align: top;\n",
       "    }\n",
       "\n",
       "    .dataframe thead th {\n",
       "        text-align: right;\n",
       "    }\n",
       "</style>\n",
       "<table border=\"1\" class=\"dataframe\">\n",
       "  <thead>\n",
       "    <tr style=\"text-align: right;\">\n",
       "      <th></th>\n",
       "      <th>Avg. Area Income</th>\n",
       "      <th>Avg. Area House Age</th>\n",
       "      <th>Avg. Area Number of Rooms</th>\n",
       "      <th>Avg. Area Number of Bedrooms</th>\n",
       "      <th>Area Population</th>\n",
       "      <th>State</th>\n",
       "      <th>Price(in dollars)</th>\n",
       "    </tr>\n",
       "  </thead>\n",
       "  <tbody>\n",
       "    <tr>\n",
       "      <th>0</th>\n",
       "      <td>79545.458574</td>\n",
       "      <td>3.998083</td>\n",
       "      <td>3.998083</td>\n",
       "      <td>3.998083</td>\n",
       "      <td>23086.800503</td>\n",
       "      <td>NE</td>\n",
       "      <td>1.059034e+06</td>\n",
       "    </tr>\n",
       "    <tr>\n",
       "      <th>1</th>\n",
       "      <td>79248.642455</td>\n",
       "      <td>6.002900</td>\n",
       "      <td>6.730821</td>\n",
       "      <td>3.090000</td>\n",
       "      <td>40173.072174</td>\n",
       "      <td>CA</td>\n",
       "      <td>1.505891e+06</td>\n",
       "    </tr>\n",
       "    <tr>\n",
       "      <th>2</th>\n",
       "      <td>61287.067179</td>\n",
       "      <td>5.865890</td>\n",
       "      <td>8.512727</td>\n",
       "      <td>5.130000</td>\n",
       "      <td>36882.159400</td>\n",
       "      <td>WI</td>\n",
       "      <td>1.058988e+06</td>\n",
       "    </tr>\n",
       "    <tr>\n",
       "      <th>3</th>\n",
       "      <td>63345.240046</td>\n",
       "      <td>7.188236</td>\n",
       "      <td>3.998083</td>\n",
       "      <td>3.998083</td>\n",
       "      <td>34310.242831</td>\n",
       "      <td>AP</td>\n",
       "      <td>1.260617e+06</td>\n",
       "    </tr>\n",
       "    <tr>\n",
       "      <th>4</th>\n",
       "      <td>59982.197226</td>\n",
       "      <td>5.040555</td>\n",
       "      <td>7.839388</td>\n",
       "      <td>4.230000</td>\n",
       "      <td>26354.109472</td>\n",
       "      <td>AE</td>\n",
       "      <td>6.309435e+05</td>\n",
       "    </tr>\n",
       "    <tr>\n",
       "      <th>...</th>\n",
       "      <td>...</td>\n",
       "      <td>...</td>\n",
       "      <td>...</td>\n",
       "      <td>...</td>\n",
       "      <td>...</td>\n",
       "      <td>...</td>\n",
       "      <td>...</td>\n",
       "    </tr>\n",
       "    <tr>\n",
       "      <th>4995</th>\n",
       "      <td>60567.944140</td>\n",
       "      <td>7.830362</td>\n",
       "      <td>3.998083</td>\n",
       "      <td>3.998083</td>\n",
       "      <td>22837.361035</td>\n",
       "      <td>AP</td>\n",
       "      <td>1.060194e+06</td>\n",
       "    </tr>\n",
       "    <tr>\n",
       "      <th>4996</th>\n",
       "      <td>78491.275435</td>\n",
       "      <td>6.999135</td>\n",
       "      <td>6.576763</td>\n",
       "      <td>4.020000</td>\n",
       "      <td>25616.115489</td>\n",
       "      <td>AA</td>\n",
       "      <td>1.482618e+06</td>\n",
       "    </tr>\n",
       "    <tr>\n",
       "      <th>4997</th>\n",
       "      <td>63390.686886</td>\n",
       "      <td>7.250591</td>\n",
       "      <td>4.805081</td>\n",
       "      <td>2.130000</td>\n",
       "      <td>33266.145490</td>\n",
       "      <td>VA</td>\n",
       "      <td>1.030730e+06</td>\n",
       "    </tr>\n",
       "    <tr>\n",
       "      <th>4998</th>\n",
       "      <td>68001.331235</td>\n",
       "      <td>5.534388</td>\n",
       "      <td>3.998083</td>\n",
       "      <td>3.998083</td>\n",
       "      <td>42625.620156</td>\n",
       "      <td>AE</td>\n",
       "      <td>1.198657e+06</td>\n",
       "    </tr>\n",
       "    <tr>\n",
       "      <th>4999</th>\n",
       "      <td>65510.581804</td>\n",
       "      <td>5.992305</td>\n",
       "      <td>6.792336</td>\n",
       "      <td>4.070000</td>\n",
       "      <td>46501.283803</td>\n",
       "      <td>NV</td>\n",
       "      <td>1.298950e+06</td>\n",
       "    </tr>\n",
       "  </tbody>\n",
       "</table>\n",
       "<p>4890 rows × 7 columns</p>\n",
       "</div>"
      ],
      "text/plain": [
       "      Avg. Area Income  Avg. Area House Age  Avg. Area Number of Rooms  \\\n",
       "0         79545.458574             3.998083                   3.998083   \n",
       "1         79248.642455             6.002900                   6.730821   \n",
       "2         61287.067179             5.865890                   8.512727   \n",
       "3         63345.240046             7.188236                   3.998083   \n",
       "4         59982.197226             5.040555                   7.839388   \n",
       "...                ...                  ...                        ...   \n",
       "4995      60567.944140             7.830362                   3.998083   \n",
       "4996      78491.275435             6.999135                   6.576763   \n",
       "4997      63390.686886             7.250591                   4.805081   \n",
       "4998      68001.331235             5.534388                   3.998083   \n",
       "4999      65510.581804             5.992305                   6.792336   \n",
       "\n",
       "      Avg. Area Number of Bedrooms  Area Population State  Price(in dollars)  \n",
       "0                         3.998083     23086.800503    NE       1.059034e+06  \n",
       "1                         3.090000     40173.072174    CA       1.505891e+06  \n",
       "2                         5.130000     36882.159400    WI       1.058988e+06  \n",
       "3                         3.998083     34310.242831    AP       1.260617e+06  \n",
       "4                         4.230000     26354.109472    AE       6.309435e+05  \n",
       "...                            ...              ...   ...                ...  \n",
       "4995                      3.998083     22837.361035    AP       1.060194e+06  \n",
       "4996                      4.020000     25616.115489    AA       1.482618e+06  \n",
       "4997                      2.130000     33266.145490    VA       1.030730e+06  \n",
       "4998                      3.998083     42625.620156    AE       1.198657e+06  \n",
       "4999                      4.070000     46501.283803    NV       1.298950e+06  \n",
       "\n",
       "[4890 rows x 7 columns]"
      ]
     },
     "execution_count": 45,
     "metadata": {},
     "output_type": "execute_result"
    }
   ],
   "source": [
    "df[(df[\"Price(in dollars)\"]>2)]"
   ]
  },
  {
   "cell_type": "code",
   "execution_count": 46,
   "id": "16b81dc4",
   "metadata": {},
   "outputs": [],
   "source": [
    "df.drop([20,94,126,256,334,4487,4597,4682,4959,4962], inplace=True)"
   ]
  },
  {
   "cell_type": "code",
   "execution_count": 47,
   "id": "0bcf41a8",
   "metadata": {},
   "outputs": [
    {
     "data": {
      "text/html": [
       "<div>\n",
       "<style scoped>\n",
       "    .dataframe tbody tr th:only-of-type {\n",
       "        vertical-align: middle;\n",
       "    }\n",
       "\n",
       "    .dataframe tbody tr th {\n",
       "        vertical-align: top;\n",
       "    }\n",
       "\n",
       "    .dataframe thead th {\n",
       "        text-align: right;\n",
       "    }\n",
       "</style>\n",
       "<table border=\"1\" class=\"dataframe\">\n",
       "  <thead>\n",
       "    <tr style=\"text-align: right;\">\n",
       "      <th></th>\n",
       "      <th>Avg. Area Income</th>\n",
       "      <th>Avg. Area House Age</th>\n",
       "      <th>Avg. Area Number of Rooms</th>\n",
       "      <th>Avg. Area Number of Bedrooms</th>\n",
       "      <th>Area Population</th>\n",
       "      <th>State</th>\n",
       "      <th>Price(in dollars)</th>\n",
       "    </tr>\n",
       "  </thead>\n",
       "  <tbody>\n",
       "    <tr>\n",
       "      <th>0</th>\n",
       "      <td>79545.458574</td>\n",
       "      <td>3.998083</td>\n",
       "      <td>3.998083</td>\n",
       "      <td>3.998083</td>\n",
       "      <td>23086.800503</td>\n",
       "      <td>NE</td>\n",
       "      <td>1.059034e+06</td>\n",
       "    </tr>\n",
       "    <tr>\n",
       "      <th>1</th>\n",
       "      <td>79248.642455</td>\n",
       "      <td>6.002900</td>\n",
       "      <td>6.730821</td>\n",
       "      <td>3.090000</td>\n",
       "      <td>40173.072174</td>\n",
       "      <td>CA</td>\n",
       "      <td>1.505891e+06</td>\n",
       "    </tr>\n",
       "    <tr>\n",
       "      <th>2</th>\n",
       "      <td>61287.067179</td>\n",
       "      <td>5.865890</td>\n",
       "      <td>8.512727</td>\n",
       "      <td>5.130000</td>\n",
       "      <td>36882.159400</td>\n",
       "      <td>WI</td>\n",
       "      <td>1.058988e+06</td>\n",
       "    </tr>\n",
       "    <tr>\n",
       "      <th>3</th>\n",
       "      <td>63345.240046</td>\n",
       "      <td>7.188236</td>\n",
       "      <td>3.998083</td>\n",
       "      <td>3.998083</td>\n",
       "      <td>34310.242831</td>\n",
       "      <td>AP</td>\n",
       "      <td>1.260617e+06</td>\n",
       "    </tr>\n",
       "    <tr>\n",
       "      <th>4</th>\n",
       "      <td>59982.197226</td>\n",
       "      <td>5.040555</td>\n",
       "      <td>7.839388</td>\n",
       "      <td>4.230000</td>\n",
       "      <td>26354.109472</td>\n",
       "      <td>AE</td>\n",
       "      <td>6.309435e+05</td>\n",
       "    </tr>\n",
       "    <tr>\n",
       "      <th>...</th>\n",
       "      <td>...</td>\n",
       "      <td>...</td>\n",
       "      <td>...</td>\n",
       "      <td>...</td>\n",
       "      <td>...</td>\n",
       "      <td>...</td>\n",
       "      <td>...</td>\n",
       "    </tr>\n",
       "    <tr>\n",
       "      <th>4995</th>\n",
       "      <td>60567.944140</td>\n",
       "      <td>7.830362</td>\n",
       "      <td>3.998083</td>\n",
       "      <td>3.998083</td>\n",
       "      <td>22837.361035</td>\n",
       "      <td>AP</td>\n",
       "      <td>1.060194e+06</td>\n",
       "    </tr>\n",
       "    <tr>\n",
       "      <th>4996</th>\n",
       "      <td>78491.275435</td>\n",
       "      <td>6.999135</td>\n",
       "      <td>6.576763</td>\n",
       "      <td>4.020000</td>\n",
       "      <td>25616.115489</td>\n",
       "      <td>AA</td>\n",
       "      <td>1.482618e+06</td>\n",
       "    </tr>\n",
       "    <tr>\n",
       "      <th>4997</th>\n",
       "      <td>63390.686886</td>\n",
       "      <td>7.250591</td>\n",
       "      <td>4.805081</td>\n",
       "      <td>2.130000</td>\n",
       "      <td>33266.145490</td>\n",
       "      <td>VA</td>\n",
       "      <td>1.030730e+06</td>\n",
       "    </tr>\n",
       "    <tr>\n",
       "      <th>4998</th>\n",
       "      <td>68001.331235</td>\n",
       "      <td>5.534388</td>\n",
       "      <td>3.998083</td>\n",
       "      <td>3.998083</td>\n",
       "      <td>42625.620156</td>\n",
       "      <td>AE</td>\n",
       "      <td>1.198657e+06</td>\n",
       "    </tr>\n",
       "    <tr>\n",
       "      <th>4999</th>\n",
       "      <td>65510.581804</td>\n",
       "      <td>5.992305</td>\n",
       "      <td>6.792336</td>\n",
       "      <td>4.070000</td>\n",
       "      <td>46501.283803</td>\n",
       "      <td>NV</td>\n",
       "      <td>1.298950e+06</td>\n",
       "    </tr>\n",
       "  </tbody>\n",
       "</table>\n",
       "<p>4880 rows × 7 columns</p>\n",
       "</div>"
      ],
      "text/plain": [
       "      Avg. Area Income  Avg. Area House Age  Avg. Area Number of Rooms  \\\n",
       "0         79545.458574             3.998083                   3.998083   \n",
       "1         79248.642455             6.002900                   6.730821   \n",
       "2         61287.067179             5.865890                   8.512727   \n",
       "3         63345.240046             7.188236                   3.998083   \n",
       "4         59982.197226             5.040555                   7.839388   \n",
       "...                ...                  ...                        ...   \n",
       "4995      60567.944140             7.830362                   3.998083   \n",
       "4996      78491.275435             6.999135                   6.576763   \n",
       "4997      63390.686886             7.250591                   4.805081   \n",
       "4998      68001.331235             5.534388                   3.998083   \n",
       "4999      65510.581804             5.992305                   6.792336   \n",
       "\n",
       "      Avg. Area Number of Bedrooms  Area Population State  Price(in dollars)  \n",
       "0                         3.998083     23086.800503    NE       1.059034e+06  \n",
       "1                         3.090000     40173.072174    CA       1.505891e+06  \n",
       "2                         5.130000     36882.159400    WI       1.058988e+06  \n",
       "3                         3.998083     34310.242831    AP       1.260617e+06  \n",
       "4                         4.230000     26354.109472    AE       6.309435e+05  \n",
       "...                            ...              ...   ...                ...  \n",
       "4995                      3.998083     22837.361035    AP       1.060194e+06  \n",
       "4996                      4.020000     25616.115489    AA       1.482618e+06  \n",
       "4997                      2.130000     33266.145490    VA       1.030730e+06  \n",
       "4998                      3.998083     42625.620156    AE       1.198657e+06  \n",
       "4999                      4.070000     46501.283803    NV       1.298950e+06  \n",
       "\n",
       "[4880 rows x 7 columns]"
      ]
     },
     "execution_count": 47,
     "metadata": {},
     "output_type": "execute_result"
    }
   ],
   "source": [
    "df[(df[\"Price(in dollars)\"]>2)]"
   ]
  },
  {
   "cell_type": "code",
   "execution_count": 48,
   "id": "75a3e4d6",
   "metadata": {},
   "outputs": [],
   "source": [
    "df.drop([352,355,417,465,498,4372,4400,4439,4448,4450], inplace=True)"
   ]
  },
  {
   "cell_type": "code",
   "execution_count": 49,
   "id": "c5c1199e",
   "metadata": {},
   "outputs": [
    {
     "data": {
      "text/html": [
       "<div>\n",
       "<style scoped>\n",
       "    .dataframe tbody tr th:only-of-type {\n",
       "        vertical-align: middle;\n",
       "    }\n",
       "\n",
       "    .dataframe tbody tr th {\n",
       "        vertical-align: top;\n",
       "    }\n",
       "\n",
       "    .dataframe thead th {\n",
       "        text-align: right;\n",
       "    }\n",
       "</style>\n",
       "<table border=\"1\" class=\"dataframe\">\n",
       "  <thead>\n",
       "    <tr style=\"text-align: right;\">\n",
       "      <th></th>\n",
       "      <th>Avg. Area Income</th>\n",
       "      <th>Avg. Area House Age</th>\n",
       "      <th>Avg. Area Number of Rooms</th>\n",
       "      <th>Avg. Area Number of Bedrooms</th>\n",
       "      <th>Area Population</th>\n",
       "      <th>State</th>\n",
       "      <th>Price(in dollars)</th>\n",
       "    </tr>\n",
       "  </thead>\n",
       "  <tbody>\n",
       "    <tr>\n",
       "      <th>0</th>\n",
       "      <td>79545.458574</td>\n",
       "      <td>3.998083</td>\n",
       "      <td>3.998083</td>\n",
       "      <td>3.998083</td>\n",
       "      <td>23086.800503</td>\n",
       "      <td>NE</td>\n",
       "      <td>1.059034e+06</td>\n",
       "    </tr>\n",
       "    <tr>\n",
       "      <th>1</th>\n",
       "      <td>79248.642455</td>\n",
       "      <td>6.002900</td>\n",
       "      <td>6.730821</td>\n",
       "      <td>3.090000</td>\n",
       "      <td>40173.072174</td>\n",
       "      <td>CA</td>\n",
       "      <td>1.505891e+06</td>\n",
       "    </tr>\n",
       "    <tr>\n",
       "      <th>2</th>\n",
       "      <td>61287.067179</td>\n",
       "      <td>5.865890</td>\n",
       "      <td>8.512727</td>\n",
       "      <td>5.130000</td>\n",
       "      <td>36882.159400</td>\n",
       "      <td>WI</td>\n",
       "      <td>1.058988e+06</td>\n",
       "    </tr>\n",
       "    <tr>\n",
       "      <th>3</th>\n",
       "      <td>63345.240046</td>\n",
       "      <td>7.188236</td>\n",
       "      <td>3.998083</td>\n",
       "      <td>3.998083</td>\n",
       "      <td>34310.242831</td>\n",
       "      <td>AP</td>\n",
       "      <td>1.260617e+06</td>\n",
       "    </tr>\n",
       "    <tr>\n",
       "      <th>4</th>\n",
       "      <td>59982.197226</td>\n",
       "      <td>5.040555</td>\n",
       "      <td>7.839388</td>\n",
       "      <td>4.230000</td>\n",
       "      <td>26354.109472</td>\n",
       "      <td>AE</td>\n",
       "      <td>6.309435e+05</td>\n",
       "    </tr>\n",
       "    <tr>\n",
       "      <th>...</th>\n",
       "      <td>...</td>\n",
       "      <td>...</td>\n",
       "      <td>...</td>\n",
       "      <td>...</td>\n",
       "      <td>...</td>\n",
       "      <td>...</td>\n",
       "      <td>...</td>\n",
       "    </tr>\n",
       "    <tr>\n",
       "      <th>4995</th>\n",
       "      <td>60567.944140</td>\n",
       "      <td>7.830362</td>\n",
       "      <td>3.998083</td>\n",
       "      <td>3.998083</td>\n",
       "      <td>22837.361035</td>\n",
       "      <td>AP</td>\n",
       "      <td>1.060194e+06</td>\n",
       "    </tr>\n",
       "    <tr>\n",
       "      <th>4996</th>\n",
       "      <td>78491.275435</td>\n",
       "      <td>6.999135</td>\n",
       "      <td>6.576763</td>\n",
       "      <td>4.020000</td>\n",
       "      <td>25616.115489</td>\n",
       "      <td>AA</td>\n",
       "      <td>1.482618e+06</td>\n",
       "    </tr>\n",
       "    <tr>\n",
       "      <th>4997</th>\n",
       "      <td>63390.686886</td>\n",
       "      <td>7.250591</td>\n",
       "      <td>4.805081</td>\n",
       "      <td>2.130000</td>\n",
       "      <td>33266.145490</td>\n",
       "      <td>VA</td>\n",
       "      <td>1.030730e+06</td>\n",
       "    </tr>\n",
       "    <tr>\n",
       "      <th>4998</th>\n",
       "      <td>68001.331235</td>\n",
       "      <td>5.534388</td>\n",
       "      <td>3.998083</td>\n",
       "      <td>3.998083</td>\n",
       "      <td>42625.620156</td>\n",
       "      <td>AE</td>\n",
       "      <td>1.198657e+06</td>\n",
       "    </tr>\n",
       "    <tr>\n",
       "      <th>4999</th>\n",
       "      <td>65510.581804</td>\n",
       "      <td>5.992305</td>\n",
       "      <td>6.792336</td>\n",
       "      <td>4.070000</td>\n",
       "      <td>46501.283803</td>\n",
       "      <td>NV</td>\n",
       "      <td>1.298950e+06</td>\n",
       "    </tr>\n",
       "  </tbody>\n",
       "</table>\n",
       "<p>4870 rows × 7 columns</p>\n",
       "</div>"
      ],
      "text/plain": [
       "      Avg. Area Income  Avg. Area House Age  Avg. Area Number of Rooms  \\\n",
       "0         79545.458574             3.998083                   3.998083   \n",
       "1         79248.642455             6.002900                   6.730821   \n",
       "2         61287.067179             5.865890                   8.512727   \n",
       "3         63345.240046             7.188236                   3.998083   \n",
       "4         59982.197226             5.040555                   7.839388   \n",
       "...                ...                  ...                        ...   \n",
       "4995      60567.944140             7.830362                   3.998083   \n",
       "4996      78491.275435             6.999135                   6.576763   \n",
       "4997      63390.686886             7.250591                   4.805081   \n",
       "4998      68001.331235             5.534388                   3.998083   \n",
       "4999      65510.581804             5.992305                   6.792336   \n",
       "\n",
       "      Avg. Area Number of Bedrooms  Area Population State  Price(in dollars)  \n",
       "0                         3.998083     23086.800503    NE       1.059034e+06  \n",
       "1                         3.090000     40173.072174    CA       1.505891e+06  \n",
       "2                         5.130000     36882.159400    WI       1.058988e+06  \n",
       "3                         3.998083     34310.242831    AP       1.260617e+06  \n",
       "4                         4.230000     26354.109472    AE       6.309435e+05  \n",
       "...                            ...              ...   ...                ...  \n",
       "4995                      3.998083     22837.361035    AP       1.060194e+06  \n",
       "4996                      4.020000     25616.115489    AA       1.482618e+06  \n",
       "4997                      2.130000     33266.145490    VA       1.030730e+06  \n",
       "4998                      3.998083     42625.620156    AE       1.198657e+06  \n",
       "4999                      4.070000     46501.283803    NV       1.298950e+06  \n",
       "\n",
       "[4870 rows x 7 columns]"
      ]
     },
     "execution_count": 49,
     "metadata": {},
     "output_type": "execute_result"
    }
   ],
   "source": [
    "df[(df[\"Price(in dollars)\"]>2)]"
   ]
  },
  {
   "cell_type": "code",
   "execution_count": 50,
   "id": "b670dd0f",
   "metadata": {},
   "outputs": [],
   "source": [
    "df.drop([567,581,622,693,700,4030,4123,4129,4184,4197], inplace=True)"
   ]
  },
  {
   "cell_type": "code",
   "execution_count": 51,
   "id": "46bb280d",
   "metadata": {},
   "outputs": [
    {
     "data": {
      "text/html": [
       "<div>\n",
       "<style scoped>\n",
       "    .dataframe tbody tr th:only-of-type {\n",
       "        vertical-align: middle;\n",
       "    }\n",
       "\n",
       "    .dataframe tbody tr th {\n",
       "        vertical-align: top;\n",
       "    }\n",
       "\n",
       "    .dataframe thead th {\n",
       "        text-align: right;\n",
       "    }\n",
       "</style>\n",
       "<table border=\"1\" class=\"dataframe\">\n",
       "  <thead>\n",
       "    <tr style=\"text-align: right;\">\n",
       "      <th></th>\n",
       "      <th>Avg. Area Income</th>\n",
       "      <th>Avg. Area House Age</th>\n",
       "      <th>Avg. Area Number of Rooms</th>\n",
       "      <th>Avg. Area Number of Bedrooms</th>\n",
       "      <th>Area Population</th>\n",
       "      <th>State</th>\n",
       "      <th>Price(in dollars)</th>\n",
       "    </tr>\n",
       "  </thead>\n",
       "  <tbody>\n",
       "    <tr>\n",
       "      <th>0</th>\n",
       "      <td>79545.458574</td>\n",
       "      <td>3.998083</td>\n",
       "      <td>3.998083</td>\n",
       "      <td>3.998083</td>\n",
       "      <td>23086.800503</td>\n",
       "      <td>NE</td>\n",
       "      <td>1.059034e+06</td>\n",
       "    </tr>\n",
       "    <tr>\n",
       "      <th>1</th>\n",
       "      <td>79248.642455</td>\n",
       "      <td>6.002900</td>\n",
       "      <td>6.730821</td>\n",
       "      <td>3.090000</td>\n",
       "      <td>40173.072174</td>\n",
       "      <td>CA</td>\n",
       "      <td>1.505891e+06</td>\n",
       "    </tr>\n",
       "    <tr>\n",
       "      <th>2</th>\n",
       "      <td>61287.067179</td>\n",
       "      <td>5.865890</td>\n",
       "      <td>8.512727</td>\n",
       "      <td>5.130000</td>\n",
       "      <td>36882.159400</td>\n",
       "      <td>WI</td>\n",
       "      <td>1.058988e+06</td>\n",
       "    </tr>\n",
       "    <tr>\n",
       "      <th>3</th>\n",
       "      <td>63345.240046</td>\n",
       "      <td>7.188236</td>\n",
       "      <td>3.998083</td>\n",
       "      <td>3.998083</td>\n",
       "      <td>34310.242831</td>\n",
       "      <td>AP</td>\n",
       "      <td>1.260617e+06</td>\n",
       "    </tr>\n",
       "    <tr>\n",
       "      <th>4</th>\n",
       "      <td>59982.197226</td>\n",
       "      <td>5.040555</td>\n",
       "      <td>7.839388</td>\n",
       "      <td>4.230000</td>\n",
       "      <td>26354.109472</td>\n",
       "      <td>AE</td>\n",
       "      <td>6.309435e+05</td>\n",
       "    </tr>\n",
       "    <tr>\n",
       "      <th>...</th>\n",
       "      <td>...</td>\n",
       "      <td>...</td>\n",
       "      <td>...</td>\n",
       "      <td>...</td>\n",
       "      <td>...</td>\n",
       "      <td>...</td>\n",
       "      <td>...</td>\n",
       "    </tr>\n",
       "    <tr>\n",
       "      <th>4995</th>\n",
       "      <td>60567.944140</td>\n",
       "      <td>7.830362</td>\n",
       "      <td>3.998083</td>\n",
       "      <td>3.998083</td>\n",
       "      <td>22837.361035</td>\n",
       "      <td>AP</td>\n",
       "      <td>1.060194e+06</td>\n",
       "    </tr>\n",
       "    <tr>\n",
       "      <th>4996</th>\n",
       "      <td>78491.275435</td>\n",
       "      <td>6.999135</td>\n",
       "      <td>6.576763</td>\n",
       "      <td>4.020000</td>\n",
       "      <td>25616.115489</td>\n",
       "      <td>AA</td>\n",
       "      <td>1.482618e+06</td>\n",
       "    </tr>\n",
       "    <tr>\n",
       "      <th>4997</th>\n",
       "      <td>63390.686886</td>\n",
       "      <td>7.250591</td>\n",
       "      <td>4.805081</td>\n",
       "      <td>2.130000</td>\n",
       "      <td>33266.145490</td>\n",
       "      <td>VA</td>\n",
       "      <td>1.030730e+06</td>\n",
       "    </tr>\n",
       "    <tr>\n",
       "      <th>4998</th>\n",
       "      <td>68001.331235</td>\n",
       "      <td>5.534388</td>\n",
       "      <td>3.998083</td>\n",
       "      <td>3.998083</td>\n",
       "      <td>42625.620156</td>\n",
       "      <td>AE</td>\n",
       "      <td>1.198657e+06</td>\n",
       "    </tr>\n",
       "    <tr>\n",
       "      <th>4999</th>\n",
       "      <td>65510.581804</td>\n",
       "      <td>5.992305</td>\n",
       "      <td>6.792336</td>\n",
       "      <td>4.070000</td>\n",
       "      <td>46501.283803</td>\n",
       "      <td>NV</td>\n",
       "      <td>1.298950e+06</td>\n",
       "    </tr>\n",
       "  </tbody>\n",
       "</table>\n",
       "<p>4860 rows × 7 columns</p>\n",
       "</div>"
      ],
      "text/plain": [
       "      Avg. Area Income  Avg. Area House Age  Avg. Area Number of Rooms  \\\n",
       "0         79545.458574             3.998083                   3.998083   \n",
       "1         79248.642455             6.002900                   6.730821   \n",
       "2         61287.067179             5.865890                   8.512727   \n",
       "3         63345.240046             7.188236                   3.998083   \n",
       "4         59982.197226             5.040555                   7.839388   \n",
       "...                ...                  ...                        ...   \n",
       "4995      60567.944140             7.830362                   3.998083   \n",
       "4996      78491.275435             6.999135                   6.576763   \n",
       "4997      63390.686886             7.250591                   4.805081   \n",
       "4998      68001.331235             5.534388                   3.998083   \n",
       "4999      65510.581804             5.992305                   6.792336   \n",
       "\n",
       "      Avg. Area Number of Bedrooms  Area Population State  Price(in dollars)  \n",
       "0                         3.998083     23086.800503    NE       1.059034e+06  \n",
       "1                         3.090000     40173.072174    CA       1.505891e+06  \n",
       "2                         5.130000     36882.159400    WI       1.058988e+06  \n",
       "3                         3.998083     34310.242831    AP       1.260617e+06  \n",
       "4                         4.230000     26354.109472    AE       6.309435e+05  \n",
       "...                            ...              ...   ...                ...  \n",
       "4995                      3.998083     22837.361035    AP       1.060194e+06  \n",
       "4996                      4.020000     25616.115489    AA       1.482618e+06  \n",
       "4997                      2.130000     33266.145490    VA       1.030730e+06  \n",
       "4998                      3.998083     42625.620156    AE       1.198657e+06  \n",
       "4999                      4.070000     46501.283803    NV       1.298950e+06  \n",
       "\n",
       "[4860 rows x 7 columns]"
      ]
     },
     "execution_count": 51,
     "metadata": {},
     "output_type": "execute_result"
    }
   ],
   "source": [
    "df[(df[\"Price(in dollars)\"]>2)]"
   ]
  },
  {
   "cell_type": "code",
   "execution_count": 52,
   "id": "fbee0e94",
   "metadata": {},
   "outputs": [],
   "source": [
    "df.drop([715,770,795,880,901,3798,3861,3905,3947,3967], inplace=True)"
   ]
  },
  {
   "cell_type": "code",
   "execution_count": 53,
   "id": "d5a70f17",
   "metadata": {},
   "outputs": [
    {
     "data": {
      "text/html": [
       "<div>\n",
       "<style scoped>\n",
       "    .dataframe tbody tr th:only-of-type {\n",
       "        vertical-align: middle;\n",
       "    }\n",
       "\n",
       "    .dataframe tbody tr th {\n",
       "        vertical-align: top;\n",
       "    }\n",
       "\n",
       "    .dataframe thead th {\n",
       "        text-align: right;\n",
       "    }\n",
       "</style>\n",
       "<table border=\"1\" class=\"dataframe\">\n",
       "  <thead>\n",
       "    <tr style=\"text-align: right;\">\n",
       "      <th></th>\n",
       "      <th>Avg. Area Income</th>\n",
       "      <th>Avg. Area House Age</th>\n",
       "      <th>Avg. Area Number of Rooms</th>\n",
       "      <th>Avg. Area Number of Bedrooms</th>\n",
       "      <th>Area Population</th>\n",
       "      <th>State</th>\n",
       "      <th>Price(in dollars)</th>\n",
       "    </tr>\n",
       "  </thead>\n",
       "  <tbody>\n",
       "    <tr>\n",
       "      <th>0</th>\n",
       "      <td>79545.458574</td>\n",
       "      <td>3.998083</td>\n",
       "      <td>3.998083</td>\n",
       "      <td>3.998083</td>\n",
       "      <td>23086.800503</td>\n",
       "      <td>NE</td>\n",
       "      <td>1.059034e+06</td>\n",
       "    </tr>\n",
       "    <tr>\n",
       "      <th>1</th>\n",
       "      <td>79248.642455</td>\n",
       "      <td>6.002900</td>\n",
       "      <td>6.730821</td>\n",
       "      <td>3.090000</td>\n",
       "      <td>40173.072174</td>\n",
       "      <td>CA</td>\n",
       "      <td>1.505891e+06</td>\n",
       "    </tr>\n",
       "    <tr>\n",
       "      <th>2</th>\n",
       "      <td>61287.067179</td>\n",
       "      <td>5.865890</td>\n",
       "      <td>8.512727</td>\n",
       "      <td>5.130000</td>\n",
       "      <td>36882.159400</td>\n",
       "      <td>WI</td>\n",
       "      <td>1.058988e+06</td>\n",
       "    </tr>\n",
       "    <tr>\n",
       "      <th>3</th>\n",
       "      <td>63345.240046</td>\n",
       "      <td>7.188236</td>\n",
       "      <td>3.998083</td>\n",
       "      <td>3.998083</td>\n",
       "      <td>34310.242831</td>\n",
       "      <td>AP</td>\n",
       "      <td>1.260617e+06</td>\n",
       "    </tr>\n",
       "    <tr>\n",
       "      <th>4</th>\n",
       "      <td>59982.197226</td>\n",
       "      <td>5.040555</td>\n",
       "      <td>7.839388</td>\n",
       "      <td>4.230000</td>\n",
       "      <td>26354.109472</td>\n",
       "      <td>AE</td>\n",
       "      <td>6.309435e+05</td>\n",
       "    </tr>\n",
       "    <tr>\n",
       "      <th>...</th>\n",
       "      <td>...</td>\n",
       "      <td>...</td>\n",
       "      <td>...</td>\n",
       "      <td>...</td>\n",
       "      <td>...</td>\n",
       "      <td>...</td>\n",
       "      <td>...</td>\n",
       "    </tr>\n",
       "    <tr>\n",
       "      <th>4995</th>\n",
       "      <td>60567.944140</td>\n",
       "      <td>7.830362</td>\n",
       "      <td>3.998083</td>\n",
       "      <td>3.998083</td>\n",
       "      <td>22837.361035</td>\n",
       "      <td>AP</td>\n",
       "      <td>1.060194e+06</td>\n",
       "    </tr>\n",
       "    <tr>\n",
       "      <th>4996</th>\n",
       "      <td>78491.275435</td>\n",
       "      <td>6.999135</td>\n",
       "      <td>6.576763</td>\n",
       "      <td>4.020000</td>\n",
       "      <td>25616.115489</td>\n",
       "      <td>AA</td>\n",
       "      <td>1.482618e+06</td>\n",
       "    </tr>\n",
       "    <tr>\n",
       "      <th>4997</th>\n",
       "      <td>63390.686886</td>\n",
       "      <td>7.250591</td>\n",
       "      <td>4.805081</td>\n",
       "      <td>2.130000</td>\n",
       "      <td>33266.145490</td>\n",
       "      <td>VA</td>\n",
       "      <td>1.030730e+06</td>\n",
       "    </tr>\n",
       "    <tr>\n",
       "      <th>4998</th>\n",
       "      <td>68001.331235</td>\n",
       "      <td>5.534388</td>\n",
       "      <td>3.998083</td>\n",
       "      <td>3.998083</td>\n",
       "      <td>42625.620156</td>\n",
       "      <td>AE</td>\n",
       "      <td>1.198657e+06</td>\n",
       "    </tr>\n",
       "    <tr>\n",
       "      <th>4999</th>\n",
       "      <td>65510.581804</td>\n",
       "      <td>5.992305</td>\n",
       "      <td>6.792336</td>\n",
       "      <td>4.070000</td>\n",
       "      <td>46501.283803</td>\n",
       "      <td>NV</td>\n",
       "      <td>1.298950e+06</td>\n",
       "    </tr>\n",
       "  </tbody>\n",
       "</table>\n",
       "<p>4850 rows × 7 columns</p>\n",
       "</div>"
      ],
      "text/plain": [
       "      Avg. Area Income  Avg. Area House Age  Avg. Area Number of Rooms  \\\n",
       "0         79545.458574             3.998083                   3.998083   \n",
       "1         79248.642455             6.002900                   6.730821   \n",
       "2         61287.067179             5.865890                   8.512727   \n",
       "3         63345.240046             7.188236                   3.998083   \n",
       "4         59982.197226             5.040555                   7.839388   \n",
       "...                ...                  ...                        ...   \n",
       "4995      60567.944140             7.830362                   3.998083   \n",
       "4996      78491.275435             6.999135                   6.576763   \n",
       "4997      63390.686886             7.250591                   4.805081   \n",
       "4998      68001.331235             5.534388                   3.998083   \n",
       "4999      65510.581804             5.992305                   6.792336   \n",
       "\n",
       "      Avg. Area Number of Bedrooms  Area Population State  Price(in dollars)  \n",
       "0                         3.998083     23086.800503    NE       1.059034e+06  \n",
       "1                         3.090000     40173.072174    CA       1.505891e+06  \n",
       "2                         5.130000     36882.159400    WI       1.058988e+06  \n",
       "3                         3.998083     34310.242831    AP       1.260617e+06  \n",
       "4                         4.230000     26354.109472    AE       6.309435e+05  \n",
       "...                            ...              ...   ...                ...  \n",
       "4995                      3.998083     22837.361035    AP       1.060194e+06  \n",
       "4996                      4.020000     25616.115489    AA       1.482618e+06  \n",
       "4997                      2.130000     33266.145490    VA       1.030730e+06  \n",
       "4998                      3.998083     42625.620156    AE       1.198657e+06  \n",
       "4999                      4.070000     46501.283803    NV       1.298950e+06  \n",
       "\n",
       "[4850 rows x 7 columns]"
      ]
     },
     "execution_count": 53,
     "metadata": {},
     "output_type": "execute_result"
    }
   ],
   "source": [
    "df[(df[\"Price(in dollars)\"]>2)]"
   ]
  },
  {
   "cell_type": "code",
   "execution_count": 54,
   "id": "c2a92eb0",
   "metadata": {},
   "outputs": [],
   "source": [
    "df.drop([924,962,971,990,1016,3658,3664,3698,3712,3765], inplace=True)"
   ]
  },
  {
   "cell_type": "code",
   "execution_count": 55,
   "id": "55f3c06b",
   "metadata": {},
   "outputs": [
    {
     "data": {
      "text/html": [
       "<div>\n",
       "<style scoped>\n",
       "    .dataframe tbody tr th:only-of-type {\n",
       "        vertical-align: middle;\n",
       "    }\n",
       "\n",
       "    .dataframe tbody tr th {\n",
       "        vertical-align: top;\n",
       "    }\n",
       "\n",
       "    .dataframe thead th {\n",
       "        text-align: right;\n",
       "    }\n",
       "</style>\n",
       "<table border=\"1\" class=\"dataframe\">\n",
       "  <thead>\n",
       "    <tr style=\"text-align: right;\">\n",
       "      <th></th>\n",
       "      <th>Avg. Area Income</th>\n",
       "      <th>Avg. Area House Age</th>\n",
       "      <th>Avg. Area Number of Rooms</th>\n",
       "      <th>Avg. Area Number of Bedrooms</th>\n",
       "      <th>Area Population</th>\n",
       "      <th>State</th>\n",
       "      <th>Price(in dollars)</th>\n",
       "    </tr>\n",
       "  </thead>\n",
       "  <tbody>\n",
       "    <tr>\n",
       "      <th>0</th>\n",
       "      <td>79545.458574</td>\n",
       "      <td>3.998083</td>\n",
       "      <td>3.998083</td>\n",
       "      <td>3.998083</td>\n",
       "      <td>23086.800503</td>\n",
       "      <td>NE</td>\n",
       "      <td>1.059034e+06</td>\n",
       "    </tr>\n",
       "    <tr>\n",
       "      <th>1</th>\n",
       "      <td>79248.642455</td>\n",
       "      <td>6.002900</td>\n",
       "      <td>6.730821</td>\n",
       "      <td>3.090000</td>\n",
       "      <td>40173.072174</td>\n",
       "      <td>CA</td>\n",
       "      <td>1.505891e+06</td>\n",
       "    </tr>\n",
       "    <tr>\n",
       "      <th>2</th>\n",
       "      <td>61287.067179</td>\n",
       "      <td>5.865890</td>\n",
       "      <td>8.512727</td>\n",
       "      <td>5.130000</td>\n",
       "      <td>36882.159400</td>\n",
       "      <td>WI</td>\n",
       "      <td>1.058988e+06</td>\n",
       "    </tr>\n",
       "    <tr>\n",
       "      <th>3</th>\n",
       "      <td>63345.240046</td>\n",
       "      <td>7.188236</td>\n",
       "      <td>3.998083</td>\n",
       "      <td>3.998083</td>\n",
       "      <td>34310.242831</td>\n",
       "      <td>AP</td>\n",
       "      <td>1.260617e+06</td>\n",
       "    </tr>\n",
       "    <tr>\n",
       "      <th>4</th>\n",
       "      <td>59982.197226</td>\n",
       "      <td>5.040555</td>\n",
       "      <td>7.839388</td>\n",
       "      <td>4.230000</td>\n",
       "      <td>26354.109472</td>\n",
       "      <td>AE</td>\n",
       "      <td>6.309435e+05</td>\n",
       "    </tr>\n",
       "    <tr>\n",
       "      <th>...</th>\n",
       "      <td>...</td>\n",
       "      <td>...</td>\n",
       "      <td>...</td>\n",
       "      <td>...</td>\n",
       "      <td>...</td>\n",
       "      <td>...</td>\n",
       "      <td>...</td>\n",
       "    </tr>\n",
       "    <tr>\n",
       "      <th>4995</th>\n",
       "      <td>60567.944140</td>\n",
       "      <td>7.830362</td>\n",
       "      <td>3.998083</td>\n",
       "      <td>3.998083</td>\n",
       "      <td>22837.361035</td>\n",
       "      <td>AP</td>\n",
       "      <td>1.060194e+06</td>\n",
       "    </tr>\n",
       "    <tr>\n",
       "      <th>4996</th>\n",
       "      <td>78491.275435</td>\n",
       "      <td>6.999135</td>\n",
       "      <td>6.576763</td>\n",
       "      <td>4.020000</td>\n",
       "      <td>25616.115489</td>\n",
       "      <td>AA</td>\n",
       "      <td>1.482618e+06</td>\n",
       "    </tr>\n",
       "    <tr>\n",
       "      <th>4997</th>\n",
       "      <td>63390.686886</td>\n",
       "      <td>7.250591</td>\n",
       "      <td>4.805081</td>\n",
       "      <td>2.130000</td>\n",
       "      <td>33266.145490</td>\n",
       "      <td>VA</td>\n",
       "      <td>1.030730e+06</td>\n",
       "    </tr>\n",
       "    <tr>\n",
       "      <th>4998</th>\n",
       "      <td>68001.331235</td>\n",
       "      <td>5.534388</td>\n",
       "      <td>3.998083</td>\n",
       "      <td>3.998083</td>\n",
       "      <td>42625.620156</td>\n",
       "      <td>AE</td>\n",
       "      <td>1.198657e+06</td>\n",
       "    </tr>\n",
       "    <tr>\n",
       "      <th>4999</th>\n",
       "      <td>65510.581804</td>\n",
       "      <td>5.992305</td>\n",
       "      <td>6.792336</td>\n",
       "      <td>4.070000</td>\n",
       "      <td>46501.283803</td>\n",
       "      <td>NV</td>\n",
       "      <td>1.298950e+06</td>\n",
       "    </tr>\n",
       "  </tbody>\n",
       "</table>\n",
       "<p>4840 rows × 7 columns</p>\n",
       "</div>"
      ],
      "text/plain": [
       "      Avg. Area Income  Avg. Area House Age  Avg. Area Number of Rooms  \\\n",
       "0         79545.458574             3.998083                   3.998083   \n",
       "1         79248.642455             6.002900                   6.730821   \n",
       "2         61287.067179             5.865890                   8.512727   \n",
       "3         63345.240046             7.188236                   3.998083   \n",
       "4         59982.197226             5.040555                   7.839388   \n",
       "...                ...                  ...                        ...   \n",
       "4995      60567.944140             7.830362                   3.998083   \n",
       "4996      78491.275435             6.999135                   6.576763   \n",
       "4997      63390.686886             7.250591                   4.805081   \n",
       "4998      68001.331235             5.534388                   3.998083   \n",
       "4999      65510.581804             5.992305                   6.792336   \n",
       "\n",
       "      Avg. Area Number of Bedrooms  Area Population State  Price(in dollars)  \n",
       "0                         3.998083     23086.800503    NE       1.059034e+06  \n",
       "1                         3.090000     40173.072174    CA       1.505891e+06  \n",
       "2                         5.130000     36882.159400    WI       1.058988e+06  \n",
       "3                         3.998083     34310.242831    AP       1.260617e+06  \n",
       "4                         4.230000     26354.109472    AE       6.309435e+05  \n",
       "...                            ...              ...   ...                ...  \n",
       "4995                      3.998083     22837.361035    AP       1.060194e+06  \n",
       "4996                      4.020000     25616.115489    AA       1.482618e+06  \n",
       "4997                      2.130000     33266.145490    VA       1.030730e+06  \n",
       "4998                      3.998083     42625.620156    AE       1.198657e+06  \n",
       "4999                      4.070000     46501.283803    NV       1.298950e+06  \n",
       "\n",
       "[4840 rows x 7 columns]"
      ]
     },
     "execution_count": 55,
     "metadata": {},
     "output_type": "execute_result"
    }
   ],
   "source": [
    "df[(df[\"Price(in dollars)\"]>2)]"
   ]
  },
  {
   "cell_type": "code",
   "execution_count": 56,
   "id": "4202b7e0",
   "metadata": {},
   "outputs": [],
   "source": [
    "df.drop([1096,1128,1195,1208,1236,1248,1281,1321,1322,1326,1436,1462,1485,1561,1518,1536,1655,1671,1730,1816,1849,1891,1957,2010,2029,2066,2070,2088,2100,2236,2275,2300,2523,2538,2588,2668,2684,2719,2795,2839,2917,2934,2991,3023,3034,3064,3088,3165,3194,3216,3226,3229,3304,3333,3336,3502,3507,3523,3617], inplace=True)"
   ]
  },
  {
   "cell_type": "code",
   "execution_count": 57,
   "id": "32c837a0",
   "metadata": {},
   "outputs": [
    {
     "data": {
      "text/html": [
       "<div>\n",
       "<style scoped>\n",
       "    .dataframe tbody tr th:only-of-type {\n",
       "        vertical-align: middle;\n",
       "    }\n",
       "\n",
       "    .dataframe tbody tr th {\n",
       "        vertical-align: top;\n",
       "    }\n",
       "\n",
       "    .dataframe thead th {\n",
       "        text-align: right;\n",
       "    }\n",
       "</style>\n",
       "<table border=\"1\" class=\"dataframe\">\n",
       "  <thead>\n",
       "    <tr style=\"text-align: right;\">\n",
       "      <th></th>\n",
       "      <th>Avg. Area Income</th>\n",
       "      <th>Avg. Area House Age</th>\n",
       "      <th>Avg. Area Number of Rooms</th>\n",
       "      <th>Avg. Area Number of Bedrooms</th>\n",
       "      <th>Area Population</th>\n",
       "      <th>State</th>\n",
       "      <th>Price(in dollars)</th>\n",
       "    </tr>\n",
       "  </thead>\n",
       "  <tbody>\n",
       "    <tr>\n",
       "      <th>0</th>\n",
       "      <td>79545.458574</td>\n",
       "      <td>3.998083</td>\n",
       "      <td>3.998083</td>\n",
       "      <td>3.998083</td>\n",
       "      <td>23086.800503</td>\n",
       "      <td>NE</td>\n",
       "      <td>1.059034e+06</td>\n",
       "    </tr>\n",
       "    <tr>\n",
       "      <th>1</th>\n",
       "      <td>79248.642455</td>\n",
       "      <td>6.002900</td>\n",
       "      <td>6.730821</td>\n",
       "      <td>3.090000</td>\n",
       "      <td>40173.072174</td>\n",
       "      <td>CA</td>\n",
       "      <td>1.505891e+06</td>\n",
       "    </tr>\n",
       "    <tr>\n",
       "      <th>2</th>\n",
       "      <td>61287.067179</td>\n",
       "      <td>5.865890</td>\n",
       "      <td>8.512727</td>\n",
       "      <td>5.130000</td>\n",
       "      <td>36882.159400</td>\n",
       "      <td>WI</td>\n",
       "      <td>1.058988e+06</td>\n",
       "    </tr>\n",
       "    <tr>\n",
       "      <th>3</th>\n",
       "      <td>63345.240046</td>\n",
       "      <td>7.188236</td>\n",
       "      <td>3.998083</td>\n",
       "      <td>3.998083</td>\n",
       "      <td>34310.242831</td>\n",
       "      <td>AP</td>\n",
       "      <td>1.260617e+06</td>\n",
       "    </tr>\n",
       "    <tr>\n",
       "      <th>4</th>\n",
       "      <td>59982.197226</td>\n",
       "      <td>5.040555</td>\n",
       "      <td>7.839388</td>\n",
       "      <td>4.230000</td>\n",
       "      <td>26354.109472</td>\n",
       "      <td>AE</td>\n",
       "      <td>6.309435e+05</td>\n",
       "    </tr>\n",
       "    <tr>\n",
       "      <th>...</th>\n",
       "      <td>...</td>\n",
       "      <td>...</td>\n",
       "      <td>...</td>\n",
       "      <td>...</td>\n",
       "      <td>...</td>\n",
       "      <td>...</td>\n",
       "      <td>...</td>\n",
       "    </tr>\n",
       "    <tr>\n",
       "      <th>4995</th>\n",
       "      <td>60567.944140</td>\n",
       "      <td>7.830362</td>\n",
       "      <td>3.998083</td>\n",
       "      <td>3.998083</td>\n",
       "      <td>22837.361035</td>\n",
       "      <td>AP</td>\n",
       "      <td>1.060194e+06</td>\n",
       "    </tr>\n",
       "    <tr>\n",
       "      <th>4996</th>\n",
       "      <td>78491.275435</td>\n",
       "      <td>6.999135</td>\n",
       "      <td>6.576763</td>\n",
       "      <td>4.020000</td>\n",
       "      <td>25616.115489</td>\n",
       "      <td>AA</td>\n",
       "      <td>1.482618e+06</td>\n",
       "    </tr>\n",
       "    <tr>\n",
       "      <th>4997</th>\n",
       "      <td>63390.686886</td>\n",
       "      <td>7.250591</td>\n",
       "      <td>4.805081</td>\n",
       "      <td>2.130000</td>\n",
       "      <td>33266.145490</td>\n",
       "      <td>VA</td>\n",
       "      <td>1.030730e+06</td>\n",
       "    </tr>\n",
       "    <tr>\n",
       "      <th>4998</th>\n",
       "      <td>68001.331235</td>\n",
       "      <td>5.534388</td>\n",
       "      <td>3.998083</td>\n",
       "      <td>3.998083</td>\n",
       "      <td>42625.620156</td>\n",
       "      <td>AE</td>\n",
       "      <td>1.198657e+06</td>\n",
       "    </tr>\n",
       "    <tr>\n",
       "      <th>4999</th>\n",
       "      <td>65510.581804</td>\n",
       "      <td>5.992305</td>\n",
       "      <td>6.792336</td>\n",
       "      <td>4.070000</td>\n",
       "      <td>46501.283803</td>\n",
       "      <td>NV</td>\n",
       "      <td>1.298950e+06</td>\n",
       "    </tr>\n",
       "  </tbody>\n",
       "</table>\n",
       "<p>4781 rows × 7 columns</p>\n",
       "</div>"
      ],
      "text/plain": [
       "      Avg. Area Income  Avg. Area House Age  Avg. Area Number of Rooms  \\\n",
       "0         79545.458574             3.998083                   3.998083   \n",
       "1         79248.642455             6.002900                   6.730821   \n",
       "2         61287.067179             5.865890                   8.512727   \n",
       "3         63345.240046             7.188236                   3.998083   \n",
       "4         59982.197226             5.040555                   7.839388   \n",
       "...                ...                  ...                        ...   \n",
       "4995      60567.944140             7.830362                   3.998083   \n",
       "4996      78491.275435             6.999135                   6.576763   \n",
       "4997      63390.686886             7.250591                   4.805081   \n",
       "4998      68001.331235             5.534388                   3.998083   \n",
       "4999      65510.581804             5.992305                   6.792336   \n",
       "\n",
       "      Avg. Area Number of Bedrooms  Area Population State  Price(in dollars)  \n",
       "0                         3.998083     23086.800503    NE       1.059034e+06  \n",
       "1                         3.090000     40173.072174    CA       1.505891e+06  \n",
       "2                         5.130000     36882.159400    WI       1.058988e+06  \n",
       "3                         3.998083     34310.242831    AP       1.260617e+06  \n",
       "4                         4.230000     26354.109472    AE       6.309435e+05  \n",
       "...                            ...              ...   ...                ...  \n",
       "4995                      3.998083     22837.361035    AP       1.060194e+06  \n",
       "4996                      4.020000     25616.115489    AA       1.482618e+06  \n",
       "4997                      2.130000     33266.145490    VA       1.030730e+06  \n",
       "4998                      3.998083     42625.620156    AE       1.198657e+06  \n",
       "4999                      4.070000     46501.283803    NV       1.298950e+06  \n",
       "\n",
       "[4781 rows x 7 columns]"
      ]
     },
     "execution_count": 57,
     "metadata": {},
     "output_type": "execute_result"
    }
   ],
   "source": [
    "df[(df[\"Price(in dollars)\"]>2)]"
   ]
  },
  {
   "cell_type": "code",
   "execution_count": 58,
   "id": "543b953a",
   "metadata": {},
   "outputs": [],
   "source": [
    "df.drop([1516], inplace=True)"
   ]
  },
  {
   "cell_type": "code",
   "execution_count": 59,
   "id": "68462732",
   "metadata": {},
   "outputs": [
    {
     "data": {
      "image/png": "[encoded data removed]",
      "text/plain": [
       "<Figure size 576x576 with 1 Axes>"
      ]
     },
     "metadata": {
      "needs_background": "light"
     },
     "output_type": "display_data"
    }
   ],
   "source": [
    "plt.figure(figsize=(8,8))\n",
    "sns.boxplot(data=df, x=\"Price(in dollars)\")\n",
    "plt.show()"
   ]
  },
  {
   "cell_type": "markdown",
   "id": "ec84d35d",
   "metadata": {},
   "source": [
    "We dropped all the outliers from the price"
   ]
  },
  {
   "cell_type": "markdown",
   "id": "9206cd06",
   "metadata": {},
   "source": [
    "# Now let's see the correlation between the datapoints"
   ]
  },
  {
   "cell_type": "code",
   "execution_count": 60,
   "id": "40de4543",
   "metadata": {},
   "outputs": [
    {
     "data": {
      "text/plain": [
       "Avg. Area Number of Rooms       0.114002\n",
       "Avg. Area Number of Bedrooms    0.135489\n",
       "Area Population                 0.371776\n",
       "Avg. Area House Age             0.417126\n",
       "Avg. Area Income                0.590662\n",
       "Price(in dollars)               1.000000\n",
       "Name: Price(in dollars), dtype: float64"
      ]
     },
     "execution_count": 60,
     "metadata": {},
     "output_type": "execute_result"
    }
   ],
   "source": [
    "df.corr()[\"Price(in dollars)\"].sort_values()"
   ]
  },
  {
   "cell_type": "code",
   "execution_count": 61,
   "id": "638e103a",
   "metadata": {},
   "outputs": [
    {
     "data": {
      "text/plain": [
       "<AxesSubplot:>"
      ]
     },
     "execution_count": 61,
     "metadata": {},
     "output_type": "execute_result"
    },
    {
     "data": {
      "image/png": "[encoded data removed]",
      "text/plain": [
       "<Figure size 432x288 with 2 Axes>"
      ]
     },
     "metadata": {
      "needs_background": "light"
     },
     "output_type": "display_data"
    }
   ],
   "source": [
    "sns.heatmap(df.corr(), cmap=\"Blues\", annot=True)"
   ]
  },
  {
   "cell_type": "code",
   "execution_count": 62,
   "id": "03c5c35b",
   "metadata": {},
   "outputs": [
    {
     "data": {
      "text/plain": [
       "Avg. Area Income               -0.047727\n",
       "Avg. Area House Age            -0.015939\n",
       "Avg. Area Number of Rooms      -0.009659\n",
       "Avg. Area Number of Bedrooms    0.451226\n",
       "Area Population                 0.057389\n",
       "Price(in dollars)              -0.005557\n",
       "dtype: float64"
      ]
     },
     "execution_count": 62,
     "metadata": {},
     "output_type": "execute_result"
    }
   ],
   "source": [
    "df.skew()"
   ]
  },
  {
   "cell_type": "code",
   "execution_count": 63,
   "id": "762ce4dd",
   "metadata": {},
   "outputs": [
    {
     "data": {
      "image/png": "[encoded data removed]",
      "text/plain": [
       "<Figure size 432x432 with 1 Axes>"
      ]
     },
     "metadata": {
      "needs_background": "light"
     },
     "output_type": "display_data"
    }
   ],
   "source": [
    "plt.figure(figsize=(6,6))\n",
    "sns.distplot(df[\"Price(in dollars)\"])\n",
    "plt.show()"
   ]
  },
  {
   "cell_type": "markdown",
   "id": "49fcab9a",
   "metadata": {},
   "source": [
    "# Label Encoding"
   ]
  },
  {
   "cell_type": "markdown",
   "id": "6d918ebc",
   "metadata": {},
   "source": [
    "We can see that the state is in categorical form we have to convert it in numeric values for that we going to use Label Encoding"
   ]
  },
  {
   "cell_type": "code",
   "execution_count": 64,
   "id": "c40354ea",
   "metadata": {},
   "outputs": [],
   "source": [
    "from sklearn.preprocessing import LabelEncoder\n",
    "le = LabelEncoder()\n",
    "df[\"State\"]= le.fit_transform(df[\"State\"])\n"
   ]
  },
  {
   "cell_type": "code",
   "execution_count": 65,
   "id": "c868fedc",
   "metadata": {},
   "outputs": [
    {
     "data": {
      "text/plain": [
       "0       37\n",
       "1        8\n",
       "2       59\n",
       "3        4\n",
       "4        1\n",
       "        ..\n",
       "4995     4\n",
       "4996     0\n",
       "4997    55\n",
       "4998     1\n",
       "4999    41\n",
       "Name: State, Length: 4780, dtype: int32"
      ]
     },
     "execution_count": 65,
     "metadata": {},
     "output_type": "execute_result"
    }
   ],
   "source": [
    "df[\"State\"]"
   ]
  },
  {
   "cell_type": "code",
   "execution_count": 66,
   "id": "cabccde3",
   "metadata": {},
   "outputs": [],
   "source": [
    "from sklearn.preprocessing import StandardScaler\n",
    "for col in df:\n",
    "    sc=StandardScaler()\n",
    "    df[col]= sc.fit_transform(df[[col]])"
   ]
  },
  {
   "cell_type": "markdown",
   "id": "0c54da18",
   "metadata": {},
   "source": [
    "# Now we are going to separate, columns in x and y"
   ]
  },
  {
   "cell_type": "markdown",
   "id": "b5039891",
   "metadata": {},
   "source": [
    "In x we will have independent variable and in y we will be having dependent variable"
   ]
  },
  {
   "cell_type": "code",
   "execution_count": 67,
   "id": "d2d11c21",
   "metadata": {},
   "outputs": [],
   "source": [
    "x = x=df[['Avg. Area Income','Avg. Area House Age','Avg. Area Number of Rooms','Avg. Area Number of Bedrooms','Area Population','State']]\n",
    "y = df.iloc[:,-1]"
   ]
  },
  {
   "cell_type": "code",
   "execution_count": 68,
   "id": "bb541dc5",
   "metadata": {},
   "outputs": [
    {
     "data": {
      "text/html": [
       "<div>\n",
       "<style scoped>\n",
       "    .dataframe tbody tr th:only-of-type {\n",
       "        vertical-align: middle;\n",
       "    }\n",
       "\n",
       "    .dataframe tbody tr th {\n",
       "        vertical-align: top;\n",
       "    }\n",
       "\n",
       "    .dataframe thead th {\n",
       "        text-align: right;\n",
       "    }\n",
       "</style>\n",
       "<table border=\"1\" class=\"dataframe\">\n",
       "  <thead>\n",
       "    <tr style=\"text-align: right;\">\n",
       "      <th></th>\n",
       "      <th>Avg. Area Income</th>\n",
       "      <th>Avg. Area House Age</th>\n",
       "      <th>Avg. Area Number of Rooms</th>\n",
       "      <th>Avg. Area Number of Bedrooms</th>\n",
       "      <th>Area Population</th>\n",
       "      <th>State</th>\n",
       "    </tr>\n",
       "  </thead>\n",
       "  <tbody>\n",
       "    <tr>\n",
       "      <th>0</th>\n",
       "      <td>1.083215</td>\n",
       "      <td>-2.023217</td>\n",
       "      <td>-1.220425</td>\n",
       "      <td>-0.006785</td>\n",
       "      <td>-1.340776</td>\n",
       "      <td>0.435222</td>\n",
       "    </tr>\n",
       "    <tr>\n",
       "      <th>1</th>\n",
       "      <td>1.053970</td>\n",
       "      <td>0.028262</td>\n",
       "      <td>0.454311</td>\n",
       "      <td>-0.903619</td>\n",
       "      <td>0.409213</td>\n",
       "      <td>-1.124754</td>\n",
       "    </tr>\n",
       "    <tr>\n",
       "      <th>2</th>\n",
       "      <td>-0.715812</td>\n",
       "      <td>-0.111937</td>\n",
       "      <td>1.546337</td>\n",
       "      <td>1.111110</td>\n",
       "      <td>0.072155</td>\n",
       "      <td>1.618652</td>\n",
       "    </tr>\n",
       "    <tr>\n",
       "      <th>3</th>\n",
       "      <td>-0.513017</td>\n",
       "      <td>1.241186</td>\n",
       "      <td>-1.220425</td>\n",
       "      <td>-0.006785</td>\n",
       "      <td>-0.191263</td>\n",
       "      <td>-1.339923</td>\n",
       "    </tr>\n",
       "    <tr>\n",
       "      <th>4</th>\n",
       "      <td>-0.844383</td>\n",
       "      <td>-0.956482</td>\n",
       "      <td>1.133687</td>\n",
       "      <td>0.222259</td>\n",
       "      <td>-1.006136</td>\n",
       "      <td>-1.501300</td>\n",
       "    </tr>\n",
       "    <tr>\n",
       "      <th>...</th>\n",
       "      <td>...</td>\n",
       "      <td>...</td>\n",
       "      <td>...</td>\n",
       "      <td>...</td>\n",
       "      <td>...</td>\n",
       "      <td>...</td>\n",
       "    </tr>\n",
       "    <tr>\n",
       "      <th>4995</th>\n",
       "      <td>-0.786669</td>\n",
       "      <td>1.898258</td>\n",
       "      <td>-1.220425</td>\n",
       "      <td>-0.006785</td>\n",
       "      <td>-1.366324</td>\n",
       "      <td>-1.339923</td>\n",
       "    </tr>\n",
       "    <tr>\n",
       "      <th>4996</th>\n",
       "      <td>0.979345</td>\n",
       "      <td>1.047684</td>\n",
       "      <td>0.359897</td>\n",
       "      <td>0.014861</td>\n",
       "      <td>-1.081722</td>\n",
       "      <td>-1.555092</td>\n",
       "    </tr>\n",
       "    <tr>\n",
       "      <th>4997</th>\n",
       "      <td>-0.508539</td>\n",
       "      <td>1.304992</td>\n",
       "      <td>-0.725863</td>\n",
       "      <td>-1.851727</td>\n",
       "      <td>-0.298200</td>\n",
       "      <td>1.403483</td>\n",
       "    </tr>\n",
       "    <tr>\n",
       "      <th>4998</th>\n",
       "      <td>-0.054246</td>\n",
       "      <td>-0.451154</td>\n",
       "      <td>-1.220425</td>\n",
       "      <td>-0.006785</td>\n",
       "      <td>0.660405</td>\n",
       "      <td>-1.501300</td>\n",
       "    </tr>\n",
       "    <tr>\n",
       "      <th>4999</th>\n",
       "      <td>-0.299663</td>\n",
       "      <td>0.017421</td>\n",
       "      <td>0.492010</td>\n",
       "      <td>0.064241</td>\n",
       "      <td>1.057353</td>\n",
       "      <td>0.650391</td>\n",
       "    </tr>\n",
       "  </tbody>\n",
       "</table>\n",
       "<p>4780 rows × 6 columns</p>\n",
       "</div>"
      ],
      "text/plain": [
       "      Avg. Area Income  Avg. Area House Age  Avg. Area Number of Rooms  \\\n",
       "0             1.083215            -2.023217                  -1.220425   \n",
       "1             1.053970             0.028262                   0.454311   \n",
       "2            -0.715812            -0.111937                   1.546337   \n",
       "3            -0.513017             1.241186                  -1.220425   \n",
       "4            -0.844383            -0.956482                   1.133687   \n",
       "...                ...                  ...                        ...   \n",
       "4995         -0.786669             1.898258                  -1.220425   \n",
       "4996          0.979345             1.047684                   0.359897   \n",
       "4997         -0.508539             1.304992                  -0.725863   \n",
       "4998         -0.054246            -0.451154                  -1.220425   \n",
       "4999         -0.299663             0.017421                   0.492010   \n",
       "\n",
       "      Avg. Area Number of Bedrooms  Area Population     State  \n",
       "0                        -0.006785        -1.340776  0.435222  \n",
       "1                        -0.903619         0.409213 -1.124754  \n",
       "2                         1.111110         0.072155  1.618652  \n",
       "3                        -0.006785        -0.191263 -1.339923  \n",
       "4                         0.222259        -1.006136 -1.501300  \n",
       "...                            ...              ...       ...  \n",
       "4995                     -0.006785        -1.366324 -1.339923  \n",
       "4996                      0.014861        -1.081722 -1.555092  \n",
       "4997                     -1.851727        -0.298200  1.403483  \n",
       "4998                     -0.006785         0.660405 -1.501300  \n",
       "4999                      0.064241         1.057353  0.650391  \n",
       "\n",
       "[4780 rows x 6 columns]"
      ]
     },
     "execution_count": 68,
     "metadata": {},
     "output_type": "execute_result"
    }
   ],
   "source": [
    "x"
   ]
  },
  {
   "cell_type": "code",
   "execution_count": 69,
   "id": "a0a94d91",
   "metadata": {},
   "outputs": [
    {
     "data": {
      "text/plain": [
       "0      -0.552753\n",
       "1       0.876728\n",
       "2      -0.552898\n",
       "3       0.092105\n",
       "4      -1.922198\n",
       "          ...   \n",
       "4995   -0.549041\n",
       "4996    0.802278\n",
       "4997   -0.643296\n",
       "4998   -0.106103\n",
       "4999    0.214733\n",
       "Name: Price(in dollars), Length: 4780, dtype: float64"
      ]
     },
     "execution_count": 69,
     "metadata": {},
     "output_type": "execute_result"
    }
   ],
   "source": [
    "y"
   ]
  },
  {
   "cell_type": "markdown",
   "id": "dbc8ca56",
   "metadata": {},
   "source": [
    "# Now we will use train_test_split to train and test the data"
   ]
  },
  {
   "cell_type": "code",
   "execution_count": 70,
   "id": "fbbd9edf",
   "metadata": {},
   "outputs": [],
   "source": [
    "from sklearn.model_selection import train_test_split, cross_val_score\n",
    "xtrain,xtest,ytrain,ytest = train_test_split(x,y,test_size=0.30, random_state=1)"
   ]
  },
  {
   "cell_type": "markdown",
   "id": "0d238f77",
   "metadata": {},
   "source": [
    "# Now we are going to use Linear Regression "
   ]
  },
  {
   "cell_type": "code",
   "execution_count": 71,
   "id": "7b8ece79",
   "metadata": {},
   "outputs": [],
   "source": [
    "from sklearn.linear_model import LinearRegression\n",
    "lr = LinearRegression()\n",
    "lr.fit(xtrain,ytrain)\n",
    "ypred= lr.predict(xtest)"
   ]
  },
  {
   "cell_type": "markdown",
   "id": "dc88e1c1",
   "metadata": {},
   "source": [
    "# Importing Evaluation metrics for Regression"
   ]
  },
  {
   "cell_type": "code",
   "execution_count": 72,
   "id": "1ca23732",
   "metadata": {},
   "outputs": [
    {
     "name": "stdout",
     "output_type": "stream",
     "text": [
      "Accuracy :  0.7904736851215167\n",
      "MAE :  0.3613421582899399\n",
      "MSE :  0.21196227344480914\n",
      "RMSE :  0.4603936070850779\n"
     ]
    }
   ],
   "source": [
    "from sklearn.metrics import mean_absolute_error,mean_squared_error,r2_score\n",
    "print(\"Accuracy : \",r2_score(ytest,ypred))\n",
    "print(\"MAE : \",mean_absolute_error(ytest,ypred))\n",
    "print(\"MSE : \",mean_squared_error(ytest,ypred))\n",
    "print(\"RMSE : \",np.sqrt(mean_squared_error(ytest,ypred)))"
   ]
  },
  {
   "cell_type": "markdown",
   "id": "fa965a90",
   "metadata": {},
   "source": [
    "Here we can see, we are getting accuracy :  0.7904736851215167 i.e 79%"
   ]
  },
  {
   "cell_type": "markdown",
   "id": "798e5bd1",
   "metadata": {},
   "source": [
    "# Now we are going to perfrom Hyperparameter tuning"
   ]
  },
  {
   "cell_type": "code",
   "execution_count": 73,
   "id": "73304f3a",
   "metadata": {},
   "outputs": [],
   "source": [
    "from sklearn.linear_model import Ridge,Lasso"
   ]
  },
  {
   "cell_type": "code",
   "execution_count": 74,
   "id": "3468a3bf",
   "metadata": {},
   "outputs": [
    {
     "name": "stdout",
     "output_type": "stream",
     "text": [
      "1= 0.7904715403407295\n",
      "2= 0.7904692107439805\n",
      "3= 0.7904666967158726\n",
      "4= 0.7904639986402097\n",
      "5= 0.790461116899998\n",
      "6= 0.790458051877448\n",
      "7= 0.7904548039539764\n",
      "8= 0.7904513735102077\n",
      "9= 0.7904477609259765\n",
      "10= 0.7904439665803286\n",
      "11= 0.7904399908515236\n",
      "12= 0.7904358341170362\n",
      "13= 0.7904314967535582\n",
      "14= 0.7904269791370003\n",
      "15= 0.7904222816424938\n",
      "16= 0.7904174046443926\n",
      "17= 0.7904123485162744\n",
      "18= 0.7904071136309436\n",
      "19= 0.7904017003604321\n",
      "20= 0.7903961090760013\n",
      "21= 0.7903903401481441\n",
      "22= 0.7903843939465865\n",
      "23= 0.7903782708402894\n",
      "24= 0.7903719711974505\n",
      "25= 0.7903654953855057\n",
      "26= 0.7903588437711311\n",
      "27= 0.7903520167202447\n",
      "28= 0.7903450145980083\n",
      "29= 0.790337837768829\n",
      "30= 0.7903304865963611\n",
      "31= 0.7903229614435073\n",
      "32= 0.7903152626724215\n",
      "33= 0.7903073906445095\n",
      "34= 0.7902993457204311\n",
      "35= 0.790291128260102\n",
      "36= 0.7902827386226952\n",
      "37= 0.7902741771666426\n",
      "38= 0.7902654442496373\n",
      "39= 0.7902565402286347\n",
      "40= 0.7902474654598541\n",
      "41= 0.7902382202987813\n",
      "42= 0.7902288051001692\n",
      "43= 0.7902192202180398\n",
      "44= 0.7902094660056865\n",
      "45= 0.7901995428156748\n",
      "46= 0.7901894509998446\n",
      "47= 0.7901791909093115\n",
      "48= 0.790168762894469\n",
      "49= 0.7901581673049893\n",
      "50= 0.7901474044898259\n",
      "51= 0.7901364747972144\n",
      "52= 0.7901253785746746\n",
      "53= 0.790114116169012\n",
      "54= 0.7901026879263194\n",
      "55= 0.790091094191979\n",
      "56= 0.790079335310663\n",
      "57= 0.790067411626336\n",
      "58= 0.7900553234822566\n",
      "59= 0.7900430712209788\n",
      "60= 0.7900306551843534\n",
      "61= 0.7900180757135302\n",
      "62= 0.7900053331489587\n",
      "63= 0.7899924278303908\n",
      "64= 0.7899793600968813\n",
      "65= 0.7899661302867903\n",
      "66= 0.7899527387377844\n",
      "67= 0.7899391857868382\n",
      "68= 0.7899254717702361\n",
      "69= 0.7899115970235738\n",
      "70= 0.7898975618817599\n",
      "71= 0.7898833666790172\n",
      "72= 0.7898690117488845\n",
      "73= 0.7898544974242182\n",
      "74= 0.7898398240371938\n",
      "75= 0.789824991919307\n",
      "76= 0.7898100014013761\n",
      "77= 0.7897948528135428\n",
      "78= 0.7897795464852739\n",
      "79= 0.7897640827453632\n",
      "80= 0.7897484619219327\n",
      "81= 0.7897326843424338\n",
      "82= 0.7897167503336495\n",
      "83= 0.7897006602216956\n",
      "84= 0.7896844143320219\n",
      "85= 0.7896680129894144\n",
      "86= 0.789651456517996\n",
      "87= 0.7896347452412287\n",
      "88= 0.7896178794819145\n",
      "89= 0.7896008595621976\n",
      "90= 0.7895836858035649\n",
      "91= 0.7895663585268484\n",
      "92= 0.7895488780522262\n",
      "93= 0.7895312446992242\n",
      "94= 0.7895134587867174\n",
      "95= 0.7894955206329313\n",
      "96= 0.7894774305554435\n",
      "97= 0.7894591888711853\n",
      "98= 0.789440795896443\n",
      "99= 0.789422251946859\n"
     ]
    }
   ],
   "source": [
    "for i in range(1,100):\n",
    "    l2=Ridge(alpha=i)\n",
    "    l2.fit(xtrain,ytrain)\n",
    "    print(f\"{i}= {l2.score(xtest,ytest)}\")"
   ]
  },
  {
   "cell_type": "code",
   "execution_count": 75,
   "id": "c7f83624",
   "metadata": {},
   "outputs": [
    {
     "data": {
      "text/plain": [
       "0.7904715403407295"
      ]
     },
     "execution_count": 75,
     "metadata": {},
     "output_type": "execute_result"
    }
   ],
   "source": [
    "l2=Ridge(alpha=1)\n",
    "l2.fit(xtrain,ytrain)\n",
    "l2.score(xtest,ytest)"
   ]
  },
  {
   "cell_type": "code",
   "execution_count": 76,
   "id": "f24a2b54",
   "metadata": {},
   "outputs": [
    {
     "data": {
      "text/plain": [
       "0.7904715403407295"
      ]
     },
     "execution_count": 76,
     "metadata": {},
     "output_type": "execute_result"
    }
   ],
   "source": [
    "l1=Ridge(alpha=1)\n",
    "l1.fit(xtrain,ytrain)\n",
    "l1.score(xtest,ytest)"
   ]
  },
  {
   "cell_type": "code",
   "execution_count": 77,
   "id": "20e92347",
   "metadata": {},
   "outputs": [
    {
     "data": {
      "text/html": [
       "<div>\n",
       "<style scoped>\n",
       "    .dataframe tbody tr th:only-of-type {\n",
       "        vertical-align: middle;\n",
       "    }\n",
       "\n",
       "    .dataframe tbody tr th {\n",
       "        vertical-align: top;\n",
       "    }\n",
       "\n",
       "    .dataframe thead th {\n",
       "        text-align: right;\n",
       "    }\n",
       "</style>\n",
       "<table border=\"1\" class=\"dataframe\">\n",
       "  <thead>\n",
       "    <tr style=\"text-align: right;\">\n",
       "      <th></th>\n",
       "      <th>Avg. Area Income</th>\n",
       "      <th>Avg. Area House Age</th>\n",
       "      <th>Avg. Area Number of Rooms</th>\n",
       "      <th>Avg. Area Number of Bedrooms</th>\n",
       "      <th>Area Population</th>\n",
       "      <th>State</th>\n",
       "      <th>Price(in dollars)</th>\n",
       "    </tr>\n",
       "  </thead>\n",
       "  <tbody>\n",
       "    <tr>\n",
       "      <th>0</th>\n",
       "      <td>1.083215</td>\n",
       "      <td>-2.023217</td>\n",
       "      <td>-1.220425</td>\n",
       "      <td>-0.006785</td>\n",
       "      <td>-1.340776</td>\n",
       "      <td>0.435222</td>\n",
       "      <td>-0.552753</td>\n",
       "    </tr>\n",
       "    <tr>\n",
       "      <th>1</th>\n",
       "      <td>1.053970</td>\n",
       "      <td>0.028262</td>\n",
       "      <td>0.454311</td>\n",
       "      <td>-0.903619</td>\n",
       "      <td>0.409213</td>\n",
       "      <td>-1.124754</td>\n",
       "      <td>0.876728</td>\n",
       "    </tr>\n",
       "    <tr>\n",
       "      <th>2</th>\n",
       "      <td>-0.715812</td>\n",
       "      <td>-0.111937</td>\n",
       "      <td>1.546337</td>\n",
       "      <td>1.111110</td>\n",
       "      <td>0.072155</td>\n",
       "      <td>1.618652</td>\n",
       "      <td>-0.552898</td>\n",
       "    </tr>\n",
       "    <tr>\n",
       "      <th>3</th>\n",
       "      <td>-0.513017</td>\n",
       "      <td>1.241186</td>\n",
       "      <td>-1.220425</td>\n",
       "      <td>-0.006785</td>\n",
       "      <td>-0.191263</td>\n",
       "      <td>-1.339923</td>\n",
       "      <td>0.092105</td>\n",
       "    </tr>\n",
       "    <tr>\n",
       "      <th>4</th>\n",
       "      <td>-0.844383</td>\n",
       "      <td>-0.956482</td>\n",
       "      <td>1.133687</td>\n",
       "      <td>0.222259</td>\n",
       "      <td>-1.006136</td>\n",
       "      <td>-1.501300</td>\n",
       "      <td>-1.922198</td>\n",
       "    </tr>\n",
       "  </tbody>\n",
       "</table>\n",
       "</div>"
      ],
      "text/plain": [
       "   Avg. Area Income  Avg. Area House Age  Avg. Area Number of Rooms  \\\n",
       "0          1.083215            -2.023217                  -1.220425   \n",
       "1          1.053970             0.028262                   0.454311   \n",
       "2         -0.715812            -0.111937                   1.546337   \n",
       "3         -0.513017             1.241186                  -1.220425   \n",
       "4         -0.844383            -0.956482                   1.133687   \n",
       "\n",
       "   Avg. Area Number of Bedrooms  Area Population     State  Price(in dollars)  \n",
       "0                     -0.006785        -1.340776  0.435222          -0.552753  \n",
       "1                     -0.903619         0.409213 -1.124754           0.876728  \n",
       "2                      1.111110         0.072155  1.618652          -0.552898  \n",
       "3                     -0.006785        -0.191263 -1.339923           0.092105  \n",
       "4                      0.222259        -1.006136 -1.501300          -1.922198  "
      ]
     },
     "execution_count": 77,
     "metadata": {},
     "output_type": "execute_result"
    }
   ],
   "source": [
    "df.head()"
   ]
  },
  {
   "cell_type": "markdown",
   "id": "146383a6",
   "metadata": {},
   "source": [
    "# Now creating a function for various model:"
   ]
  },
  {
   "cell_type": "code",
   "execution_count": 78,
   "id": "fbb2f966",
   "metadata": {},
   "outputs": [],
   "source": [
    "def mymodel(model):\n",
    "    model.fit(xtrain,ytrain)\n",
    "    ypred=model.predict(xtest)\n",
    "    print(\"Accuracy : \",r2_score(ytest,ypred))\n",
    "    print(\"mae: \", mean_absolute_error(ytest,ypred))\n",
    "    print(\"mse: \", mean_squared_error(ytest,ypred))\n",
    "    print(\"rmae: \", np.sqrt(mean_absolute_error(ytest,ypred)))\n",
    "    return model"
   ]
  },
  {
   "cell_type": "markdown",
   "id": "41eec803",
   "metadata": {},
   "source": [
    "# Imporing SVM"
   ]
  },
  {
   "cell_type": "code",
   "execution_count": 79,
   "id": "937f22c2",
   "metadata": {},
   "outputs": [],
   "source": [
    "from sklearn.svm import SVR\n",
    "svm=SVR()\n",
    "svm.fit(xtrain,ytrain)\n",
    "ypred=svm.predict(xtest)"
   ]
  },
  {
   "cell_type": "code",
   "execution_count": 80,
   "id": "f7f4678c",
   "metadata": {},
   "outputs": [
    {
     "name": "stdout",
     "output_type": "stream",
     "text": [
      "Accuracy :  0.8295754338218292\n",
      "mae:  0.3246562551094187\n",
      "mse:  0.1724059267635219\n",
      "rmae:  0.5697861485763046\n"
     ]
    },
    {
     "data": {
      "text/plain": [
       "SVR()"
      ]
     },
     "execution_count": 80,
     "metadata": {},
     "output_type": "execute_result"
    }
   ],
   "source": [
    "mymodel(svm)"
   ]
  },
  {
   "cell_type": "code",
   "execution_count": 81,
   "id": "747051c2",
   "metadata": {},
   "outputs": [
    {
     "name": "stdout",
     "output_type": "stream",
     "text": [
      "Accuracy :  0.7908277659860975\n",
      "mae:  0.3610387836399438\n",
      "mse:  0.21160407602658335\n",
      "rmae:  0.6008650294699666\n"
     ]
    },
    {
     "data": {
      "text/plain": [
       "SVR(kernel='linear')"
      ]
     },
     "execution_count": 81,
     "metadata": {},
     "output_type": "execute_result"
    }
   ],
   "source": [
    "svm=SVR(kernel=\"linear\")\n",
    "mymodel(svm)"
   ]
  },
  {
   "cell_type": "code",
   "execution_count": 82,
   "id": "bc094566",
   "metadata": {},
   "outputs": [
    {
     "name": "stdout",
     "output_type": "stream",
     "text": [
      "Accuracy :  0.8295754338218292\n",
      "mae:  0.3246562551094187\n",
      "mse:  0.1724059267635219\n",
      "rmae:  0.5697861485763046\n"
     ]
    },
    {
     "data": {
      "text/plain": [
       "SVR()"
      ]
     },
     "execution_count": 82,
     "metadata": {},
     "output_type": "execute_result"
    }
   ],
   "source": [
    "svm=SVR(kernel=\"rbf\")\n",
    "mymodel(svm)"
   ]
  },
  {
   "cell_type": "code",
   "execution_count": 83,
   "id": "a2f8f2e4",
   "metadata": {},
   "outputs": [
    {
     "name": "stdout",
     "output_type": "stream",
     "text": [
      "Accuracy :  -255.00482261378215\n",
      "mae:  11.377766428233503\n",
      "mse:  258.98114155982216\n",
      "rmae:  3.3730944884828684\n"
     ]
    },
    {
     "data": {
      "text/plain": [
       "SVR(kernel='sigmoid')"
      ]
     },
     "execution_count": 83,
     "metadata": {},
     "output_type": "execute_result"
    }
   ],
   "source": [
    "svm=SVR(kernel=\"sigmoid\")\n",
    "mymodel(svm)"
   ]
  },
  {
   "cell_type": "code",
   "execution_count": 84,
   "id": "609779e2",
   "metadata": {},
   "outputs": [
    {
     "name": "stdout",
     "output_type": "stream",
     "text": [
      "Accuracy :  0.6684619992428139\n",
      "mae:  0.4511034259844216\n",
      "mse:  0.33539247046174525\n",
      "rmae:  0.6716423348661262\n"
     ]
    },
    {
     "data": {
      "text/plain": [
       "SVR(kernel='poly')"
      ]
     },
     "execution_count": 84,
     "metadata": {},
     "output_type": "execute_result"
    }
   ],
   "source": [
    "svm=SVR(kernel=\"poly\")\n",
    "mymodel(svm)"
   ]
  },
  {
   "cell_type": "code",
   "execution_count": 85,
   "id": "a0958a34",
   "metadata": {},
   "outputs": [],
   "source": [
    "from sklearn.model_selection import GridSearchCV"
   ]
  },
  {
   "cell_type": "code",
   "execution_count": 86,
   "id": "d14c54a8",
   "metadata": {},
   "outputs": [],
   "source": [
    "parameters={'C':[1,100],'gamma':[0.1,0.01],'kernel':['rbf']}"
   ]
  },
  {
   "cell_type": "code",
   "execution_count": 87,
   "id": "5d3b46a6",
   "metadata": {},
   "outputs": [
    {
     "name": "stdout",
     "output_type": "stream",
     "text": [
      "Fitting 5 folds for each of 4 candidates, totalling 20 fits\n",
      "[CV] END .........................C=1, gamma=0.1, kernel=rbf; total time=   0.3s\n",
      "[CV] END .........................C=1, gamma=0.1, kernel=rbf; total time=   0.3s\n",
      "[CV] END .........................C=1, gamma=0.1, kernel=rbf; total time=   0.3s\n",
      "[CV] END .........................C=1, gamma=0.1, kernel=rbf; total time=   0.3s\n",
      "[CV] END .........................C=1, gamma=0.1, kernel=rbf; total time=   0.3s\n",
      "[CV] END ........................C=1, gamma=0.01, kernel=rbf; total time=   0.3s\n",
      "[CV] END ........................C=1, gamma=0.01, kernel=rbf; total time=   0.3s\n",
      "[CV] END ........................C=1, gamma=0.01, kernel=rbf; total time=   0.3s\n",
      "[CV] END ........................C=1, gamma=0.01, kernel=rbf; total time=   0.3s\n",
      "[CV] END ........................C=1, gamma=0.01, kernel=rbf; total time=   0.3s\n",
      "[CV] END .......................C=100, gamma=0.1, kernel=rbf; total time=   3.4s\n",
      "[CV] END .......................C=100, gamma=0.1, kernel=rbf; total time=   3.5s\n",
      "[CV] END .......................C=100, gamma=0.1, kernel=rbf; total time=   3.0s\n",
      "[CV] END .......................C=100, gamma=0.1, kernel=rbf; total time=   3.4s\n",
      "[CV] END .......................C=100, gamma=0.1, kernel=rbf; total time=   3.2s\n",
      "[CV] END ......................C=100, gamma=0.01, kernel=rbf; total time=   0.7s\n",
      "[CV] END ......................C=100, gamma=0.01, kernel=rbf; total time=   0.7s\n",
      "[CV] END ......................C=100, gamma=0.01, kernel=rbf; total time=   0.7s\n",
      "[CV] END ......................C=100, gamma=0.01, kernel=rbf; total time=   0.6s\n",
      "[CV] END ......................C=100, gamma=0.01, kernel=rbf; total time=   0.7s\n"
     ]
    },
    {
     "data": {
      "text/plain": [
       "GridSearchCV(estimator=SVR(),\n",
       "             param_grid={'C': [1, 100], 'gamma': [0.1, 0.01],\n",
       "                         'kernel': ['rbf']},\n",
       "             verbose=2)"
      ]
     },
     "execution_count": 87,
     "metadata": {},
     "output_type": "execute_result"
    }
   ],
   "source": [
    "grid=GridSearchCV(SVR(),parameters,verbose=2)\n",
    "grid.fit(xtrain,ytrain)"
   ]
  },
  {
   "cell_type": "code",
   "execution_count": 88,
   "id": "056f9ec2",
   "metadata": {},
   "outputs": [
    {
     "data": {
      "text/plain": [
       "{'C': 100, 'gamma': 0.01, 'kernel': 'rbf'}"
      ]
     },
     "execution_count": 88,
     "metadata": {},
     "output_type": "execute_result"
    }
   ],
   "source": [
    "grid.best_params_"
   ]
  },
  {
   "cell_type": "code",
   "execution_count": 89,
   "id": "7afcc43b",
   "metadata": {},
   "outputs": [],
   "source": [
    "ypred=grid.predict(xtest)"
   ]
  },
  {
   "cell_type": "code",
   "execution_count": 90,
   "id": "2e75a55d",
   "metadata": {},
   "outputs": [],
   "source": [
    "ac=r2_score(ytest,ypred)"
   ]
  },
  {
   "cell_type": "code",
   "execution_count": 91,
   "id": "7c0f0494",
   "metadata": {},
   "outputs": [
    {
     "data": {
      "text/plain": [
       "0.8354094963415167"
      ]
     },
     "execution_count": 91,
     "metadata": {},
     "output_type": "execute_result"
    }
   ],
   "source": [
    "ac"
   ]
  },
  {
   "cell_type": "markdown",
   "id": "1e264707",
   "metadata": {},
   "source": [
    "The accuracy is 0.8354094963415167 i.e 84%"
   ]
  },
  {
   "cell_type": "markdown",
   "id": "a7ea6d4b",
   "metadata": {},
   "source": [
    "# User Input"
   ]
  },
  {
   "cell_type": "code",
   "execution_count": 94,
   "id": "b7bdecdf",
   "metadata": {},
   "outputs": [
    {
     "name": "stdout",
     "output_type": "stream",
     "text": [
      "Enter your income: 45888\n",
      "Enter Area House Age 38\n",
      "Enter Number of rooms: 23\n",
      "Enter no. of bedrooms 23\n",
      "Enter Area of population 34576\n",
      "Enter your state: 23\n",
      "[46136.81569977]"
     ]
    }
   ],
   "source": [
    "income = input(\"Enter your income: \")\n",
    "house_age = input(\"Enter Area House Age \")\n",
    "no_of_rooms = input(\"Enter Number of rooms: \")\n",
    "no_of_bedrooms = input(\"Enter no. of bedrooms \")\n",
    "population = input(\"Enter Area of population \")\n",
    "state = input(\"Enter your state: \")\n",
    "\n",
    "data = [income,house_age,no_of_rooms,no_of_bedrooms,population,state]\n",
    "\n",
    "print((l2.predict([data])),end=\"\")"
   ]
  }
 ],
 "metadata": {
  "kernelspec": {
   "display_name": "Python 3 (ipykernel)",
   "language": "python",
   "name": "python3"
  },
  "language_info": {
   "codemirror_mode": {
    "name": "ipython",
    "version": 3
   },
   "file_extension": ".py",
   "mimetype": "text/x-python",
   "name": "python",
   "nbconvert_exporter": "python",
   "pygments_lexer": "ipython3",
   "version": "3.9.7"
  }
 },
 "nbformat": 4,
 "nbformat_minor": 5
}
